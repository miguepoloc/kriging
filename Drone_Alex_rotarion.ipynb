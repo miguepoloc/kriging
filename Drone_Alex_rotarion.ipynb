{
 "cells": [
  {
   "attachments": {},
   "cell_type": "markdown",
   "metadata": {},
   "source": [
    "Código para la creación de imagen tiff con metadatos de drone"
   ]
  },
  {
   "cell_type": "code",
   "execution_count": 51,
   "metadata": {},
   "outputs": [],
   "source": [
    "from PIL import Image\n",
    "from PIL.TiffTags import TAGS\n",
    "import re\n",
    "import rasterio"
   ]
  },
  {
   "attachments": {},
   "cell_type": "markdown",
   "metadata": {},
   "source": [
    "# %Crear Dicciónario de metadata de las imágenes %"
   ]
  },
  {
   "cell_type": "code",
   "execution_count": 52,
   "metadata": {},
   "outputs": [
    {
     "data": {
      "text/plain": [
       "'DJI_0051'"
      ]
     },
     "execution_count": 52,
     "metadata": {},
     "output_type": "execute_result"
    }
   ],
   "source": [
    "# Nombre de la imagen\n",
    "\n",
    "imagen = \"./data/fotos/DJI_0051.TIF\"\n",
    "\n",
    "n_imagen = imagen.split(\"/\")[-1]\n",
    "n_imagen = n_imagen.split(\".\")[0]\n",
    "n_imagen\n"
   ]
  },
  {
   "cell_type": "code",
   "execution_count": 53,
   "metadata": {},
   "outputs": [
    {
     "name": "stdout",
     "output_type": "stream",
     "text": [
      "{'xmpmeta xmlns:x': 'adobe:ns:meta/', 'RDF xmlns:rdf': 'http://www.w3.org/1999/02/22-rdf-syntax-ns#', 'Description rdf:about': 'DJI Meta Data', 'tiff': 'http://ns.adobe.com/tiff/1.0/', 'exif': 'http://ns.adobe.com/exif/1.0/', 'xmp': 'http://ns.adobe.com/xap/1.0/', 'xmpMM': 'http://ns.adobe.com/xap/1.0/mm/', 'dc': 'http://purl.org/dc/elements/1.1/', 'crs': 'http://ns.adobe.com/camera-raw-settings/1.0/', 'drone-dji': 'http://www.dji.com/drone-dji/1.0/', 'Camera': 'http://pix4d.com/camera/1.0', 'ModifyDate': '2022-02-11', 'CreateDate': '2022-02-11', 'Make': 'DJI', 'Model': 'FC6360', 'format': 'image/TIF', 'AbsoluteAltitude': '+84.65', 'RelativeAltitude': '+70.03', 'GpsLatitude': '11.22617803', 'GpsLongitude': '-74.18549349', 'GimbalRollDegree': '+0.00', 'GimbalYawDegree': '-96.50', 'GimbalPitchDegree': '-89.90', 'FlightRollDegree': '+6.40', 'FlightYawDegree': '-95.30', 'FlightPitchDegree': '+6.50', 'FlightXSpeed': '+0.10', 'FlightYSpeed': '+0.40', 'FlightZSpeed': '+0.00', 'CamReverse': '0', 'GimbalReverse': '0', 'SelfData': 'Undefined', 'CalibratedFocalLength': '1913.333374', 'CalibratedOpticalCenterX': '800.000000', 'CalibratedOpticalCenterY': '650.000000', 'RtkFlag': '50', 'RtkSrcType': '2', 'RtkStdLon': '0.01331', 'RtkStdLat': '0.01156', 'RtkStdHgt': '0.02916', 'RelativeOpticalCenterX': '-9.81250', 'RelativeOpticalCenterY': '-0.87500', 'DewarpFlag': '0', 'DewarpData': '2019-02-04;1946.6899414,1938.1800537,8.2410278,0.6400146,-0.4091410,0.3551550,0.0014017,0.0014017,-0.3881310', 'DewarpHMatrix': '1.0080700,-0.0037179,6.8375001,0.0051800,0.9988350,-13.7370996,0.0000153,-0.0000099,1.0000000', 'VignettingFlag': '0', 'VignettingData': '0.000218235, 1.20722e-6, -2.8676e-9, 5.1742e-12, -4.16853e-15, 1.36962e-18', 'LS_type': '1', 'Package_idx': '181', 'Cfg_cnt': '1', 'RawData': '7428.000 8975.000 9347.000 9060.000 9861.000 7509.000 8346.000 9800.000 9244.000 10543.000 3752.000 1561.000 2007.000 4029.000 6019.000 5501.000 7153.000 6958.000 ', 'BandName': 'Blue', 'BandFreq': '450(+/-16)nm', 'Irradiance': '10366.984', 'SensorGain': '1.000', 'ExposureTime': '316', 'SensorGainAdjustment': '2.176354', 'SensorIndex': '1', 'CaptureUUID': '7ecd05a7e4c011eb9562ce3ccab36997', 'DroneID': 'ce3ccab369970d2995b38aac35c75ff8', 'Version': '7.0', 'HasSettings': 'False', 'HasCrop': 'False', 'AlreadyApplied': 'False'}\n"
     ]
    }
   ],
   "source": [
    "# obtenemos la imagen .tif\n",
    "\n",
    "img = Image.open(imagen)\n",
    "# obtenemos los Tags de la metadata y se almacenan en un diccionario\n",
    "meta_dict = {TAGS[key]: img.tag[key] for key in img.tag_v2}\n",
    "# Se imprime el diccionario para obtener la composición de los datos\n",
    "# for rec in meta_dict:\n",
    "#     print(rec, \":\", meta_dict[rec])\n",
    "\n",
    "# Extraemos el indicador xmp\n",
    "p = meta_dict.get(\"XMP\")\n",
    "s = p.decode(\"UTF-8\")\n",
    "# dividimos por el salto de linea y obtenemos una lista\n",
    "div = s.split(\"\\n\")\n",
    "\n",
    "#eliminamos los espacios vacios \n",
    "\n",
    "for ind,recorrido in enumerate(div):\n",
    "    div[ind]=recorrido.strip() \n",
    "usar = div[17]\n",
    "\n",
    "result = re.search(\":(.*)=\", div[17])\n",
    "result.group(1)\n",
    "\n",
    "result2 = re.search(\"\\\"(.*)\\\"\", div[17])\n",
    "result2.group(1)\n",
    "\n",
    "metadiccionario = {}\n",
    "for ind,recorrido in enumerate(div):\n",
    "    try:\n",
    "        metadiccionario[re.search(\":(.*)=\", div[ind]).group(1)] = re.search(\"\\\"(.*)\\\"\", div[ind]).group(1)\n",
    "    except:\n",
    "        pass\n",
    "\n",
    "metadiccionario = {}\n",
    "for ind,recorrido in enumerate(div):\n",
    "    try:\n",
    "        metadiccionario[re.search(\":(.*)=\", div[ind]).group(1)] = re.search(\"\\\"(.*)\\\"\", div[ind]).group(1)\n",
    "    except:\n",
    "        pass\n",
    "\n",
    "print(metadiccionario)"
   ]
  },
  {
   "attachments": {},
   "cell_type": "markdown",
   "metadata": {},
   "source": [
    "## *Extracción de los datos significativos de la metadata*"
   ]
  },
  {
   "cell_type": "code",
   "execution_count": 54,
   "metadata": {},
   "outputs": [
    {
     "name": "stdout",
     "output_type": "stream",
     "text": [
      "Resolución = 0.03660104451823564\n"
     ]
    }
   ],
   "source": [
    "\n",
    "centro_x = float(metadiccionario[\"CalibratedOpticalCenterX\"])\n",
    "centro_y = float(metadiccionario[\"CalibratedOpticalCenterY\"])\n",
    "altura_vuelo = float(metadiccionario[\"RelativeAltitude\"])\n",
    "distancia_focal = float(metadiccionario[\"CalibratedFocalLength\"])\n",
    "angulo_giro = float(metadiccionario[\"GimbalYawDegree\"])\n",
    "latitud = float(metadiccionario[\"GpsLatitude\"])\n",
    "longitud = float(metadiccionario[\"GpsLongitude\"])\n",
    "\n",
    "#print(float(metadiccionario[\"GimbalYawDegree\"]))\n",
    "\n",
    "#Se calcula la resolución en metros por pixel.\n",
    "#Es decir, a cuantos metros equivale un pixel\n",
    "resolucion = altura_vuelo/distancia_focal\n",
    "print(f\"Resolución = {resolucion}\")\n",
    "\n",
    "#rotado=img.rotate(math.degrees(float(metadiccionario[\"GimbalYawDegree\"])))\n",
    "\n"
   ]
  },
  {
   "attachments": {},
   "cell_type": "markdown",
   "metadata": {},
   "source": [
    "### Se utiliza la rotación para crear nuevas imágenes y se abren en otra variable(Temporal)\n",
    "Proyectividad: Reemplaza la misma imágen de entrada con la rotación correspondiente para que la imágen quede geoposicionadamente con el mismo nombre\n",
    "\n",
    "Image.rotate(angle, resample=Resampling.NEAREST, expand=0, center=None, translate=None, fillcolor=None)[source]\n",
    "\n",
    "- Angle= angulo\n",
    "- Expand = Hace la imágen mas grande para que cuando gira no se corta\n",
    "- fillCollor = Rellena con cualquier color la función"
   ]
  },
  {
   "cell_type": "code",
   "execution_count": 55,
   "metadata": {},
   "outputs": [],
   "source": [
    "# Utilizamos en angulo que se usa\n",
    "rotado = img.rotate(\n",
    "    (float(metadiccionario[\"GimbalYawDegree\"]))*-1, expand=True)\n",
    "# Guardamos con el nombre el nuevo .TIF con el imágen rotada\n",
    "rotado.save(\"data/rotado_\"+n_imagen+\".tif\")\n",
    "imagen2 = \"data/rotado_\"+n_imagen+\".tif\"\n"
   ]
  },
  {
   "cell_type": "code",
   "execution_count": 56,
   "metadata": {},
   "outputs": [
    {
     "name": "stdout",
     "output_type": "stream",
     "text": [
      "(1.0, 1.0)\n",
      "width: 1474\n",
      "| 1.00, 0.00, 0.00|\n",
      "| 0.00, 1.00, 0.00|\n",
      "| 0.00, 0.00, 1.00|\n"
     ]
    }
   ],
   "source": [
    "# Abrimos ahora la segunda imágen, la cual es la nueva creada\n",
    "with rasterio.open(imagen2) as src:\n",
    "    # Obtener la información de la imagen\n",
    "    width = src.width\n",
    "    height = src.height\n",
    "    transform = src.transform\n",
    "    crs = src.crs\n",
    "    print(src.res)\n",
    "    print(\"width:\", width)\n",
    "    print(src.transform)\n"
   ]
  },
  {
   "attachments": {},
   "cell_type": "markdown",
   "metadata": {},
   "source": [
    "Cálculo de las coordenadas de las esquinas la imagen"
   ]
  },
  {
   "attachments": {},
   "cell_type": "markdown",
   "metadata": {},
   "source": [
    "Se divide entre 111111 para convertir los metros en grados. Esto se debe a que 1 grado de longitud o latitud en el ecuador es aproximadamente 111.111 km de ancho. Dado que la longitud y la latitud son medidas en grados, se debe convertir el tamaño de los píxeles en metros a grados para poder calcular las coordenadas extremas en grados.\n",
    "Donde el ancho de la imagen en metros se divide entre la distancia en metros por grado para obtener la diferencia en grados. El factor 111111 es una aproximación, ya que la distancia en metros por grado varía según la latitud. Sin embargo, esta aproximación es suficiente para una precisión razonable.\n",
    "\n",
    "Es importante tener en cuenta que esta conversión solo es válida para latitudes cercanas al ecuador, ya que la distancia en metros por grado varía según la latitud."
   ]
  },
  {
   "cell_type": "code",
   "execution_count": 57,
   "metadata": {},
   "outputs": [
    {
     "name": "stdout",
     "output_type": "stream",
     "text": [
      "-74.18575701778406 -74.18522996221594 11.225963913675452 11.226392146324548\n"
     ]
    }
   ],
   "source": [
    "# Se geoposiciona la imágen y ahora\n",
    "# Calcular las coordenadas de los extremos en metros\n",
    "min_lon = float(metadiccionario[\"GpsLongitude\"]) - (\n",
    "    float(metadiccionario[\"CalibratedOpticalCenterX\"]) * resolucion) / 111111\n",
    "max_lon = float(metadiccionario[\"GpsLongitude\"]) + (\n",
    "    float(metadiccionario[\"CalibratedOpticalCenterX\"]) * resolucion) / 111111\n",
    "min_lat = float(metadiccionario[\"GpsLatitude\"]) - (\n",
    "    float(metadiccionario[\"CalibratedOpticalCenterY\"]) * resolucion) / 111111\n",
    "max_lat = float(metadiccionario[\"GpsLatitude\"]) + (\n",
    "    float(metadiccionario[\"CalibratedOpticalCenterY\"]) * resolucion) / 111111\n",
    "print(min_lon, max_lon, min_lat, max_lat)\n",
    "\n",
    "transform = rasterio.transform.from_bounds(\n",
    "    min_lon, min_lat, max_lon, max_lat, img.width, img.height)\n",
    "\"\"\" print(transform)\n",
    "print(\"#\"*10) \"\"\"\n",
    "# Abrir el archivo original\n",
    "with rasterio.open(imagen2) as src:\n",
    "    # Leer los datos de la imagen\n",
    "    image = src.read()\n",
    "\n",
    "    # Crear una copia del archivo\n",
    "    with rasterio.open(\n",
    "        \"data/drone_rot_\"+n_imagen+\".TIF\",  # Nombre del nuevo archivo georefenciado\n",
    "        'w',\n",
    "        driver='GTiff',\n",
    "        height=src.height,\n",
    "        width=src.width,\n",
    "        count=1,\n",
    "        dtype=\"float64\",\n",
    "        crs={\"init\": \"epsg:4326\"},\n",
    "        transform=transform,\n",
    "    ) as dst:\n",
    "        dst.write(image)\n"
   ]
  }
 ],
 "metadata": {
  "kernelspec": {
   "display_name": "venv",
   "language": "python",
   "name": "python3"
  },
  "language_info": {
   "codemirror_mode": {
    "name": "ipython",
    "version": 3
   },
   "file_extension": ".py",
   "mimetype": "text/x-python",
   "name": "python",
   "nbconvert_exporter": "python",
   "pygments_lexer": "ipython3",
   "version": "3.9.13"
  },
  "orig_nbformat": 4,
  "vscode": {
   "interpreter": {
    "hash": "8c331df6f17fe20001c0ab0f3b9a95f235b4ac52409adcdc77ff1039244255d0"
   }
  }
 },
 "nbformat": 4,
 "nbformat_minor": 2
}
