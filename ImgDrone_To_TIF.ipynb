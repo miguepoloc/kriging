{
 "cells": [
  {
   "attachments": {},
   "cell_type": "markdown",
   "metadata": {},
   "source": [
    "Código para la creación de imagen tiff con metadatos de drone"
   ]
  },
  {
   "cell_type": "code",
   "execution_count": 5,
   "metadata": {},
   "outputs": [],
   "source": [
    "from PIL import Image\n",
    "from PIL.TiffTags import TAGS\n",
    "import re\n",
    "import rasterio\n",
    "import numpy as np\n",
    "import math\n",
    "import matplotlib.pyplot as plt"
   ]
  },
  {
   "cell_type": "code",
   "execution_count": 6,
   "metadata": {},
   "outputs": [],
   "source": [
    "# obtenemos la imagen .tif\n",
    "imagen = \"./data/fotos/DJI_0051.TIF\"\n",
    "img = Image.open(imagen)\n",
    "# obtenemos los Tags de la metadata y se almacenan en un diccionario\n",
    "meta_dict = {TAGS[key]: img.tag[key] for key in img.tag_v2}\n",
    "# Se imprime el diccionario para obtener la composición de los datos\n",
    "# for rec in meta_dict:\n",
    "#     print(rec, \":\", meta_dict[rec])\n"
   ]
  },
  {
   "cell_type": "code",
   "execution_count": 7,
   "metadata": {},
   "outputs": [],
   "source": [
    "# Extraemos el indicador xmp\n",
    "p = meta_dict.get(\"XMP\")\n",
    "s = p.decode(\"UTF-8\")\n",
    "# dividimos por el salto de linea y obtenemos una lista\n",
    "div = s.split(\"\\n\")"
   ]
  },
  {
   "cell_type": "code",
   "execution_count": 8,
   "metadata": {},
   "outputs": [
    {
     "data": {
      "text/plain": [
       "'drone-dji:AbsoluteAltitude=\"+84.65\"'"
      ]
     },
     "execution_count": 8,
     "metadata": {},
     "output_type": "execute_result"
    }
   ],
   "source": [
    "#eliminamos los espacios vacios \n",
    "\n",
    "for ind,recorrido in enumerate(div):\n",
    "    div[ind]=recorrido.strip() \n",
    "\n",
    "div[17]"
   ]
  },
  {
   "cell_type": "code",
   "execution_count": 9,
   "metadata": {},
   "outputs": [
    {
     "name": "stdout",
     "output_type": "stream",
     "text": [
      "AbsoluteAltitude\n",
      "+84.65\n"
     ]
    }
   ],
   "source": [
    "usar = div[17]\n",
    "\n",
    "result = re.search(\":(.*)=\", div[17])\n",
    "result.group(1)\n",
    "\n",
    "result2 = re.search(\"\\\"(.*)\\\"\", div[17])\n",
    "result2.group(1)\n",
    "\n",
    "print(result.group(1))\n",
    "print(result2.group(1))\n"
   ]
  },
  {
   "attachments": {},
   "cell_type": "markdown",
   "metadata": {},
   "source": [
    "Creo un diccionario donde almaceno las variables de la metadata con su valor"
   ]
  },
  {
   "cell_type": "code",
   "execution_count": 10,
   "metadata": {},
   "outputs": [
    {
     "name": "stdout",
     "output_type": "stream",
     "text": [
      "{'xmpmeta xmlns:x': 'adobe:ns:meta/', 'RDF xmlns:rdf': 'http://www.w3.org/1999/02/22-rdf-syntax-ns#', 'Description rdf:about': 'DJI Meta Data', 'tiff': 'http://ns.adobe.com/tiff/1.0/', 'exif': 'http://ns.adobe.com/exif/1.0/', 'xmp': 'http://ns.adobe.com/xap/1.0/', 'xmpMM': 'http://ns.adobe.com/xap/1.0/mm/', 'dc': 'http://purl.org/dc/elements/1.1/', 'crs': 'http://ns.adobe.com/camera-raw-settings/1.0/', 'drone-dji': 'http://www.dji.com/drone-dji/1.0/', 'Camera': 'http://pix4d.com/camera/1.0', 'ModifyDate': '2022-02-11', 'CreateDate': '2022-02-11', 'Make': 'DJI', 'Model': 'FC6360', 'format': 'image/TIF', 'AbsoluteAltitude': '+84.65', 'RelativeAltitude': '+70.03', 'GpsLatitude': '11.22617803', 'GpsLongitude': '-74.18549349', 'GimbalRollDegree': '+0.00', 'GimbalYawDegree': '-96.50', 'GimbalPitchDegree': '-89.90', 'FlightRollDegree': '+6.40', 'FlightYawDegree': '-95.30', 'FlightPitchDegree': '+6.50', 'FlightXSpeed': '+0.10', 'FlightYSpeed': '+0.40', 'FlightZSpeed': '+0.00', 'CamReverse': '0', 'GimbalReverse': '0', 'SelfData': 'Undefined', 'CalibratedFocalLength': '1913.333374', 'CalibratedOpticalCenterX': '800.000000', 'CalibratedOpticalCenterY': '650.000000', 'RtkFlag': '50', 'RtkSrcType': '2', 'RtkStdLon': '0.01331', 'RtkStdLat': '0.01156', 'RtkStdHgt': '0.02916', 'RelativeOpticalCenterX': '-9.81250', 'RelativeOpticalCenterY': '-0.87500', 'DewarpFlag': '0', 'DewarpData': '2019-02-04;1946.6899414,1938.1800537,8.2410278,0.6400146,-0.4091410,0.3551550,0.0014017,0.0014017,-0.3881310', 'DewarpHMatrix': '1.0080700,-0.0037179,6.8375001,0.0051800,0.9988350,-13.7370996,0.0000153,-0.0000099,1.0000000', 'VignettingFlag': '0', 'VignettingData': '0.000218235, 1.20722e-6, -2.8676e-9, 5.1742e-12, -4.16853e-15, 1.36962e-18', 'LS_type': '1', 'Package_idx': '181', 'Cfg_cnt': '1', 'RawData': '7428.000 8975.000 9347.000 9060.000 9861.000 7509.000 8346.000 9800.000 9244.000 10543.000 3752.000 1561.000 2007.000 4029.000 6019.000 5501.000 7153.000 6958.000 ', 'BandName': 'Blue', 'BandFreq': '450(+/-16)nm', 'Irradiance': '10366.984', 'SensorGain': '1.000', 'ExposureTime': '316', 'SensorGainAdjustment': '2.176354', 'SensorIndex': '1', 'CaptureUUID': '7ecd05a7e4c011eb9562ce3ccab36997', 'DroneID': 'ce3ccab369970d2995b38aac35c75ff8', 'Version': '7.0', 'HasSettings': 'False', 'HasCrop': 'False', 'AlreadyApplied': 'False'}\n"
     ]
    }
   ],
   "source": [
    "metadiccionario = {}\n",
    "for ind,recorrido in enumerate(div):\n",
    "    try:\n",
    "        metadiccionario[re.search(\":(.*)=\", div[ind]).group(1)] = re.search(\"\\\"(.*)\\\"\", div[ind]).group(1)\n",
    "    except:\n",
    "        pass\n",
    "\n",
    "print(metadiccionario)"
   ]
  },
  {
   "cell_type": "code",
   "execution_count": 11,
   "metadata": {},
   "outputs": [],
   "source": [
    "centro_x = float(metadiccionario[\"CalibratedOpticalCenterX\"])\n",
    "centro_y = float(metadiccionario[\"CalibratedOpticalCenterY\"])\n",
    "altura_vuelo = float(metadiccionario[\"RelativeAltitude\"])\n",
    "distancia_focal = float(metadiccionario[\"CalibratedFocalLength\"])\n",
    "angulo_giro = float(metadiccionario[\"GimbalYawDegree\"])\n",
    "latitud = float(metadiccionario[\"GpsLatitude\"])\n",
    "longitud = float(metadiccionario[\"GpsLongitude\"])\n"
   ]
  },
  {
   "attachments": {},
   "cell_type": "markdown",
   "metadata": {},
   "source": [
    "Se calcula la resolución en metros por pixel.\n",
    "Es decir, a cuantos metros equivale un pixel"
   ]
  },
  {
   "cell_type": "code",
   "execution_count": 12,
   "metadata": {},
   "outputs": [
    {
     "data": {
      "text/plain": [
       "0.03660104451823564"
      ]
     },
     "execution_count": 12,
     "metadata": {},
     "output_type": "execute_result"
    }
   ],
   "source": [
    "resolucion = altura_vuelo/distancia_focal\n",
    "resolucion"
   ]
  },
  {
   "cell_type": "code",
   "execution_count": 13,
   "metadata": {},
   "outputs": [
    {
     "name": "stdout",
     "output_type": "stream",
     "text": [
      "(1.0, 1.0)\n",
      "width: 1600\n"
     ]
    },
    {
     "name": "stderr",
     "output_type": "stream",
     "text": [
      "c:\\Users\\Migue Polo\\Documents\\Codigos\\kriging\\venv\\lib\\site-packages\\rasterio\\__init__.py:332: NotGeoreferencedWarning: Dataset has no geotransform, gcps, or rpcs. The identity matrix will be returned.\n",
      "  dataset = DatasetReader(path, driver=driver, sharing=sharing, **kwargs)\n"
     ]
    }
   ],
   "source": [
    "# Abrir la imagen\n",
    "with rasterio.open(imagen) as src:\n",
    "    # Obtener la información de la imagen\n",
    "    width = src.width\n",
    "    height = src.height\n",
    "    transform = src.transform\n",
    "    crs = src.crs\n",
    "    print(src.res)\n",
    "    print(\"width:\", width)\n"
   ]
  },
  {
   "attachments": {},
   "cell_type": "markdown",
   "metadata": {},
   "source": [
    "Cálculo de las coordenadas de las esquinas la imagen"
   ]
  },
  {
   "attachments": {},
   "cell_type": "markdown",
   "metadata": {},
   "source": [
    "Se divide entre 111111 para convertir los metros en grados. Esto se debe a que 1 grado de longitud o latitud en el ecuador es aproximadamente 111.111 km de ancho. Dado que la longitud y la latitud son medidas en grados, se debe convertir el tamaño de los píxeles en metros a grados para poder calcular las coordenadas extremas en grados.\n",
    "Donde el ancho de la imagen en metros se divide entre la distancia en metros por grado para obtener la diferencia en grados. El factor 111111 es una aproximación, ya que la distancia en metros por grado varía según la latitud. Sin embargo, esta aproximación es suficiente para una precisión razonable.\n",
    "\n",
    "Es importante tener en cuenta que esta conversión solo es válida para latitudes cercanas al ecuador, ya que la distancia en metros por grado varía según la latitud."
   ]
  },
  {
   "cell_type": "code",
   "execution_count": 14,
   "metadata": {},
   "outputs": [
    {
     "name": "stdout",
     "output_type": "stream",
     "text": [
      "-74.18575701778406 -74.18522996221594 11.225963913675452 11.226392146324548\n"
     ]
    }
   ],
   "source": [
    "# Calcular las coordenadas de los extremos en metros\n",
    "min_lon = float(metadiccionario[\"GpsLongitude\"]) - (\n",
    "    float(metadiccionario[\"CalibratedOpticalCenterX\"]) * resolucion) / 111111\n",
    "max_lon = float(metadiccionario[\"GpsLongitude\"]) + (\n",
    "    float(metadiccionario[\"CalibratedOpticalCenterX\"]) * resolucion) / 111111\n",
    "min_lat = float(metadiccionario[\"GpsLatitude\"]) - (\n",
    "    float(metadiccionario[\"CalibratedOpticalCenterY\"]) * resolucion) / 111111\n",
    "max_lat = float(metadiccionario[\"GpsLatitude\"]) + (\n",
    "    float(metadiccionario[\"CalibratedOpticalCenterY\"]) * resolucion) / 111111\n",
    "print(min_lon, max_lon, min_lat, max_lat)\n"
   ]
  },
  {
   "cell_type": "code",
   "execution_count": 15,
   "metadata": {},
   "outputs": [
    {
     "data": {
      "text/plain": [
       "Affine(3.2940973007100636e-07, 0.0, -74.18575701778406,\n",
       "       0.0, -3.2940973007373926e-07, 11.226392146324548)"
      ]
     },
     "execution_count": 15,
     "metadata": {},
     "output_type": "execute_result"
    }
   ],
   "source": [
    "transform = rasterio.transform.from_bounds(\n",
    "    min_lon, min_lat, max_lon, max_lat, img.width, img.height)\n",
    "transform\n"
   ]
  },
  {
   "attachments": {},
   "cell_type": "markdown",
   "metadata": {},
   "source": [
    "Leo la imagen con rasterio y luego la guardo con las coordenadas correspondientes y como archivo tiff"
   ]
  },
  {
   "cell_type": "code",
   "execution_count": 16,
   "metadata": {},
   "outputs": [
    {
     "ename": "CPLE_AppDefinedError",
     "evalue": "Deleting data/drone51.TIF failed: Permission denied",
     "output_type": "error",
     "traceback": [
      "\u001b[1;31m---------------------------------------------------------------------------\u001b[0m",
      "\u001b[1;31mCPLE_AppDefinedError\u001b[0m                      Traceback (most recent call last)",
      "Cell \u001b[1;32mIn[16], line 7\u001b[0m\n\u001b[0;32m      4\u001b[0m image \u001b[39m=\u001b[39m src\u001b[39m.\u001b[39mread()\n\u001b[0;32m      6\u001b[0m \u001b[39m# Crear una copia del archivo\u001b[39;00m\n\u001b[1;32m----> 7\u001b[0m \u001b[39mwith\u001b[39;00m rasterio\u001b[39m.\u001b[39;49mopen(\n\u001b[0;32m      8\u001b[0m     \u001b[39m'\u001b[39;49m\u001b[39mdata/drone51.TIF\u001b[39;49m\u001b[39m'\u001b[39;49m,\n\u001b[0;32m      9\u001b[0m     \u001b[39m'\u001b[39;49m\u001b[39mw\u001b[39;49m\u001b[39m'\u001b[39;49m,\n\u001b[0;32m     10\u001b[0m     driver\u001b[39m=\u001b[39;49m\u001b[39m'\u001b[39;49m\u001b[39mGTiff\u001b[39;49m\u001b[39m'\u001b[39;49m,\n\u001b[0;32m     11\u001b[0m     height\u001b[39m=\u001b[39;49msrc\u001b[39m.\u001b[39;49mheight,\n\u001b[0;32m     12\u001b[0m     width\u001b[39m=\u001b[39;49msrc\u001b[39m.\u001b[39;49mwidth,\n\u001b[0;32m     13\u001b[0m     count\u001b[39m=\u001b[39;49m\u001b[39m1\u001b[39;49m,\n\u001b[0;32m     14\u001b[0m     dtype\u001b[39m=\u001b[39;49m\u001b[39m\"\u001b[39;49m\u001b[39mfloat64\u001b[39;49m\u001b[39m\"\u001b[39;49m,\n\u001b[0;32m     15\u001b[0m     crs\u001b[39m=\u001b[39;49m{\u001b[39m\"\u001b[39;49m\u001b[39minit\u001b[39;49m\u001b[39m\"\u001b[39;49m: \u001b[39m\"\u001b[39;49m\u001b[39mepsg:4326\u001b[39;49m\u001b[39m\"\u001b[39;49m},\n\u001b[0;32m     16\u001b[0m     transform\u001b[39m=\u001b[39;49mtransform,\n\u001b[0;32m     17\u001b[0m ) \u001b[39mas\u001b[39;00m dst:\n\u001b[0;32m     18\u001b[0m     dst\u001b[39m.\u001b[39mwrite(image)\n",
      "File \u001b[1;32mc:\\Users\\Migue Polo\\Documents\\Codigos\\kriging\\venv\\lib\\site-packages\\rasterio\\env.py:444\u001b[0m, in \u001b[0;36mensure_env_with_credentials.<locals>.wrapper\u001b[1;34m(*args, **kwds)\u001b[0m\n\u001b[0;32m    441\u001b[0m     session \u001b[39m=\u001b[39m DummySession()\n\u001b[0;32m    443\u001b[0m \u001b[39mwith\u001b[39;00m env_ctor(session\u001b[39m=\u001b[39msession):\n\u001b[1;32m--> 444\u001b[0m     \u001b[39mreturn\u001b[39;00m f(\u001b[39m*\u001b[39margs, \u001b[39m*\u001b[39m\u001b[39m*\u001b[39mkwds)\n",
      "File \u001b[1;32mc:\\Users\\Migue Polo\\Documents\\Codigos\\kriging\\venv\\lib\\site-packages\\rasterio\\__init__.py:342\u001b[0m, in \u001b[0;36mopen\u001b[1;34m(fp, mode, driver, width, height, count, crs, transform, dtype, nodata, sharing, **kwargs)\u001b[0m\n\u001b[0;32m    340\u001b[0m writer \u001b[39m=\u001b[39m get_writer_for_driver(driver)\n\u001b[0;32m    341\u001b[0m \u001b[39mif\u001b[39;00m writer \u001b[39mis\u001b[39;00m \u001b[39mnot\u001b[39;00m \u001b[39mNone\u001b[39;00m:\n\u001b[1;32m--> 342\u001b[0m     dataset \u001b[39m=\u001b[39m writer(\n\u001b[0;32m    343\u001b[0m         path,\n\u001b[0;32m    344\u001b[0m         mode,\n\u001b[0;32m    345\u001b[0m         driver\u001b[39m=\u001b[39mdriver,\n\u001b[0;32m    346\u001b[0m         width\u001b[39m=\u001b[39mwidth,\n\u001b[0;32m    347\u001b[0m         height\u001b[39m=\u001b[39mheight,\n\u001b[0;32m    348\u001b[0m         count\u001b[39m=\u001b[39mcount,\n\u001b[0;32m    349\u001b[0m         crs\u001b[39m=\u001b[39mcrs,\n\u001b[0;32m    350\u001b[0m         transform\u001b[39m=\u001b[39mtransform,\n\u001b[0;32m    351\u001b[0m         dtype\u001b[39m=\u001b[39mdtype,\n\u001b[0;32m    352\u001b[0m         nodata\u001b[39m=\u001b[39mnodata,\n\u001b[0;32m    353\u001b[0m         sharing\u001b[39m=\u001b[39msharing,\n\u001b[0;32m    354\u001b[0m         \u001b[39m*\u001b[39m\u001b[39m*\u001b[39mkwargs\n\u001b[0;32m    355\u001b[0m     )\n\u001b[0;32m    356\u001b[0m \u001b[39melse\u001b[39;00m:\n\u001b[0;32m    357\u001b[0m     \u001b[39mraise\u001b[39;00m DriverCapabilityError(\n\u001b[0;32m    358\u001b[0m         \u001b[39m\"\u001b[39m\u001b[39mWriter does not exist for driver: \u001b[39m\u001b[39m%s\u001b[39;00m\u001b[39m\"\u001b[39m \u001b[39m%\u001b[39m \u001b[39mstr\u001b[39m(driver)\n\u001b[0;32m    359\u001b[0m     )\n",
      "File \u001b[1;32mrasterio\\_io.pyx:1425\u001b[0m, in \u001b[0;36mrasterio._io.DatasetWriterBase.__init__\u001b[1;34m()\u001b[0m\n",
      "File \u001b[1;32mrasterio\\_io.pyx:291\u001b[0m, in \u001b[0;36mrasterio._io._delete_dataset_if_exists\u001b[1;34m()\u001b[0m\n",
      "File \u001b[1;32mrasterio\\_err.pyx:195\u001b[0m, in \u001b[0;36mrasterio._err.exc_wrap_int\u001b[1;34m()\u001b[0m\n",
      "\u001b[1;31mCPLE_AppDefinedError\u001b[0m: Deleting data/drone51.TIF failed: Permission denied"
     ]
    }
   ],
   "source": [
    "# Abrir el archivo original\n",
    "with rasterio.open(imagen) as src:\n",
    "    # Leer los datos de la imagen\n",
    "    image = src.read()\n",
    "\n",
    "    # Crear una copia del archivo\n",
    "    with rasterio.open(\n",
    "        'data/drone51.TIF',\n",
    "        'w',\n",
    "        driver='GTiff',\n",
    "        height=src.height,\n",
    "        width=src.width,\n",
    "        count=1,\n",
    "        dtype=\"float64\",\n",
    "        crs={\"init\": \"epsg:4326\"},\n",
    "        transform=transform,\n",
    "    ) as dst:\n",
    "        dst.write(image)\n"
   ]
  },
  {
   "attachments": {},
   "cell_type": "markdown",
   "metadata": {},
   "source": [
    "*Aquí empiezo a probar la rotación de la imagen*"
   ]
  },
  {
   "cell_type": "code",
   "execution_count": 21,
   "metadata": {},
   "outputs": [],
   "source": [
    "imagen_salida = \"data/drone51.TIF\""
   ]
  },
  {
   "cell_type": "code",
   "execution_count": 24,
   "metadata": {},
   "outputs": [
    {
     "data": {
      "text/plain": [
       "0"
      ]
     },
     "execution_count": 24,
     "metadata": {},
     "output_type": "execute_result"
    }
   ],
   "source": [
    "from osgeo import gdal  # For read and manipulate rasters\n",
    "from affine import Affine  # For easly manipulation of affine matrix\n",
    "\n",
    "\n",
    "# Some functions declaration for clarify the code\n",
    "\n",
    "\n",
    "def raster_center(raster):\n",
    "    \"\"\"This function return the pixel coordinates of the raster center \n",
    "    \"\"\"\n",
    "\n",
    "    # We get the size (in pixels) of the raster\n",
    "    # using gdal\n",
    "    width, height = raster.RasterXSize, raster.RasterYSize\n",
    "\n",
    "    # We calculate the middle of raster\n",
    "    xmed = width / 2\n",
    "    ymed = height / 2\n",
    "\n",
    "    return (xmed, ymed)\n",
    "\n",
    "\n",
    "def rotate_gt(affine_matrix, angle, pivot=None):\n",
    "    \"\"\"This function generate a rotated affine matrix\n",
    "    \"\"\"\n",
    "\n",
    "    # The gdal affine matrix format is not the same\n",
    "    # of the Affine format, so we use a bullit-in function\n",
    "    # to change it\n",
    "    # see : https://github.com/sgillies/affine/blob/master/affine/__init__.py#L178\n",
    "    affine_src = Affine.from_gdal(*affine_matrix)\n",
    "    # We made the rotation. For this we calculate a rotation matrix,\n",
    "    # with the rotation method and we combine it with the original affine matrix\n",
    "    # Be carful, the star operator (*) is surcharged by Affine package. He make\n",
    "    # a matrix multiplication, not a basic multiplication\n",
    "    affine_dst = affine_src * affine_src.rotation(angle, pivot)\n",
    "    # We retrun the rotated matrix in gdal format\n",
    "    return affine_dst.to_gdal()\n",
    "\n",
    "\n",
    "# Import the raster to rotate\n",
    "# Here I use a sample of GDAL, dowloaded here : https://download.osgeo.org/geotiff/samples/spot/chicago/SP27GTIF.TIF\n",
    "# and transformed in nc with qgis\n",
    "# NB: the transformation in nc is specific for the original question,\n",
    "# this step is not neccecary if you copy/past this code\n",
    "dataset_src = gdal.Open(\"SP27GTIF.tiff\")\n",
    "\n",
    "# For no overwriting the original raster I make a copy\n",
    "\n",
    "# I Get the reading/writing driver (GTIFF)\n",
    "driver = gdal.GetDriverByName(\"GTiff\")\n",
    "# A new raster, the destination file, is created.\n",
    "# This raster is a copy of the source raster (same size, values...)\n",
    "datase_dst = driver.CreateCopy(\"SP27GTIF_rotate2.TIF\", dataset_src, strict=0)\n",
    "\n",
    "# Now we can rotate the raster\n",
    "\n",
    "# First step, we get the affine tranformation matrix of the initial fine\n",
    "# More info here : https://gdal.org/tutorials/geotransforms_tut.html#geotransforms-tut\n",
    "gt_affine = dataset_src.GetGeoTransform()\n",
    "\n",
    "# Second we get the center of the raster to set the rotation center\n",
    "# Be carefull, the center is in pixel number, not in projected coordinates\n",
    "# More info on the  \"raster_center\" comment's\n",
    "center = raster_center(dataset_src)\n",
    "\n",
    "# Third we rotate the destination raster, datase_dst, with setting a new\n",
    "# affine matrix made by the \"rotate_gt\" function.\n",
    "# gt_affine is the initial affine matrix\n",
    "# -33 is an exemple angle (in degrees)\n",
    "# and center the center of raster\n",
    "datase_dst.SetGeoTransform(rotate_gt(gt_affine, -33, center))\n"
   ]
  },
  {
   "cell_type": "code",
   "execution_count": 20,
   "metadata": {},
   "outputs": [
    {
     "ename": "AttributeError",
     "evalue": "'NoneType' object has no attribute 'SetGeoTransform'",
     "output_type": "error",
     "traceback": [
      "\u001b[1;31m---------------------------------------------------------------------------\u001b[0m",
      "\u001b[1;31mAttributeError\u001b[0m                            Traceback (most recent call last)",
      "Cell \u001b[1;32mIn[20], line 24\u001b[0m\n\u001b[0;32m     21\u001b[0m output_ds \u001b[39m=\u001b[39m driver\u001b[39m.\u001b[39mCreate(output_path, cols, rows, \u001b[39m1\u001b[39m, gdal\u001b[39m.\u001b[39mGDT_Byte)\n\u001b[0;32m     23\u001b[0m \u001b[39m# Set the output raster geotransform\u001b[39;00m\n\u001b[1;32m---> 24\u001b[0m output_ds\u001b[39m.\u001b[39;49mSetGeoTransform(gt)\n\u001b[0;32m     26\u001b[0m \u001b[39m# Rotate the raster\u001b[39;00m\n\u001b[0;32m     27\u001b[0m gdal\u001b[39m.\u001b[39mTranslate(output_path, ds, \u001b[39mformat\u001b[39m\u001b[39m=\u001b[39m\u001b[39m'\u001b[39m\u001b[39mGTiff\u001b[39m\u001b[39m'\u001b[39m, outputSRS\u001b[39m=\u001b[39m\u001b[39m'\u001b[39m\u001b[39mEPSG:4326\u001b[39m\u001b[39m'\u001b[39m, rotation\u001b[39m=\u001b[39mangle, outputBounds\u001b[39m=\u001b[39m[center_x,center_y,\u001b[39m0\u001b[39m,\u001b[39m0\u001b[39m])\n",
      "\u001b[1;31mAttributeError\u001b[0m: 'NoneType' object has no attribute 'SetGeoTransform'"
     ]
    }
   ],
   "source": [
    "from osgeo import gdal\n",
    "\n",
    "path = 'data/drone51.TIF'\n",
    "angle = angulo_giro\n",
    "center_x = centro_x\n",
    "center_y = centro_y\n",
    "\n",
    "# Open raster\n",
    "ds = gdal.Open(path, gdal.GA_Update)\n",
    "\n",
    "# Get the raster geotransform\n",
    "gt = ds.GetGeoTransform()\n",
    "\n",
    "# Get the raster size\n",
    "rows = ds.RasterYSize\n",
    "cols = ds.RasterXSize\n",
    "\n",
    "# Create the output raster\n",
    "output_path = \"path/to/rotated_raster.tif\"\n",
    "driver = ds.GetDriver()\n",
    "output_ds = driver.Create(output_path, cols, rows, 1, gdal.GDT_Byte)\n",
    "\n",
    "# Set the output raster geotransform\n",
    "output_ds.SetGeoTransform(gt)\n",
    "\n",
    "# Rotate the raster\n",
    "gdal.Translate(output_path, ds, format='GTiff', outputSRS='EPSG:4326', rotation=angle, outputBounds=[center_x,center_y,0,0])\n",
    "\n",
    "# Close the rasters\n",
    "ds = None\n",
    "output_ds = None"
   ]
  },
  {
   "cell_type": "code",
   "execution_count": 19,
   "metadata": {},
   "outputs": [
    {
     "ename": "AttributeError",
     "evalue": "module 'osgeo.gdal' has no attribute 'GetGeoTransform'",
     "output_type": "error",
     "traceback": [
      "\u001b[1;31m---------------------------------------------------------------------------\u001b[0m",
      "\u001b[1;31mAttributeError\u001b[0m                            Traceback (most recent call last)",
      "Cell \u001b[1;32mIn[19], line 19\u001b[0m\n\u001b[0;32m     17\u001b[0m \u001b[39m# Crear una nueva matriz de transformación con una rotación de 91 grados\u001b[39;00m\n\u001b[0;32m     18\u001b[0m rotation \u001b[39m=\u001b[39m gdal\u001b[39m.\u001b[39mTermProgress_nocb\n\u001b[1;32m---> 19\u001b[0m new_transform \u001b[39m=\u001b[39m gdal\u001b[39m.\u001b[39;49mGetGeoTransform(transform, rotation, center_x, center_y, angulo_giro)\n\u001b[0;32m     21\u001b[0m \u001b[39m# Crear una nueva imagen utilizando la matriz de transformación rotada\u001b[39;00m\n\u001b[0;32m     22\u001b[0m output \u001b[39m=\u001b[39m gdal\u001b[39m.\u001b[39mGetDriverByName(\u001b[39m\"\u001b[39m\u001b[39mGTiff\u001b[39m\u001b[39m\"\u001b[39m)\u001b[39m.\u001b[39mCreate(\u001b[39m\"\u001b[39m\u001b[39mrotated_rasterMIGUE.tif\u001b[39m\u001b[39m\"\u001b[39m, cols, rows, \u001b[39m1\u001b[39m, gdal\u001b[39m.\u001b[39mGDT_Float32)\n",
      "\u001b[1;31mAttributeError\u001b[0m: module 'osgeo.gdal' has no attribute 'GetGeoTransform'"
     ]
    }
   ],
   "source": [
    "from osgeo import gdal\n",
    "\n",
    "# Abrir el archivo raster\n",
    "raster = gdal.Open('data/drone51.TIF')\n",
    "\n",
    "# Obtener las dimensiones del raster\n",
    "cols = raster.RasterXSize\n",
    "rows = raster.RasterYSize\n",
    "\n",
    "# Crear una matriz de transformación de afinidad\n",
    "transform = raster.GetGeoTransform()\n",
    "\n",
    "# Calcular las coordenadas del centro del raster\n",
    "center_x = transform[0] + cols/2*transform[1] + rows/2*transform[2]\n",
    "center_y = transform[3] + cols/2*transform[4] + rows/2*transform[5]\n",
    "\n",
    "# Crear una nueva matriz de transformación con una rotación de 91 grados\n",
    "rotation = gdal.TermProgress_nocb\n",
    "new_transform = gdal.GetGeoTransform(transform, rotation, center_x, center_y, angulo_giro)\n",
    "\n",
    "# Crear una nueva imagen utilizando la matriz de transformación rotada\n",
    "output = gdal.GetDriverByName(\"GTiff\").Create(\"rotated_rasterMIGUE.tif\", cols, rows, 1, gdal.GDT_Float32)\n",
    "output.SetGeoTransform(new_transform)\n",
    "\n",
    "# Copiar los datos del raster original a la nueva imagen\n",
    "gdal.ReprojectImage(raster, output, raster.GetProjection(), output.GetProjection(), gdal.GRA_NearestNeighbour)\n",
    "\n",
    "# Cerrar las imágenes\n",
    "raster = None\n",
    "output = None"
   ]
  },
  {
   "cell_type": "code",
   "execution_count": 18,
   "metadata": {},
   "outputs": [
    {
     "ename": "AttributeError",
     "evalue": "'Band' object has no attribute 'Rotate'",
     "output_type": "error",
     "traceback": [
      "\u001b[1;31m---------------------------------------------------------------------------\u001b[0m",
      "\u001b[1;31mAttributeError\u001b[0m                            Traceback (most recent call last)",
      "Cell \u001b[1;32mIn[18], line 16\u001b[0m\n\u001b[0;32m     14\u001b[0m ds_rotate\u001b[39m.\u001b[39mSetProjection(ds\u001b[39m.\u001b[39mGetProjection())\n\u001b[0;32m     15\u001b[0m ds_rotate\u001b[39m.\u001b[39mSetMetadata(ds\u001b[39m.\u001b[39mGetMetadata())\n\u001b[1;32m---> 16\u001b[0m ds_rotate\u001b[39m.\u001b[39;49mGetRasterBand(\u001b[39m1\u001b[39;49m)\u001b[39m.\u001b[39;49mRotate(angle)\n\u001b[0;32m     18\u001b[0m \u001b[39m# Cerrar archivos raster\u001b[39;00m\n\u001b[0;32m     19\u001b[0m ds \u001b[39m=\u001b[39m \u001b[39mNone\u001b[39;00m\n",
      "\u001b[1;31mAttributeError\u001b[0m: 'Band' object has no attribute 'Rotate'"
     ]
    }
   ],
   "source": [
    "from osgeo import gdal\n",
    "\n",
    "# Abrir archivo raster original\n",
    "ds = gdal.Open('data/drone51.TIF')\n",
    "\n",
    "# Crear una copia del archivo raster original\n",
    "ds_rotate = gdal.GetDriverByName('GTiff').CreateCopy('output2.tif', ds)\n",
    "\n",
    "# Establecer el ángulo de rotación en 91 grados\n",
    "angle = angulo_giro\n",
    "\n",
    "# Rotar el raster\n",
    "ds_rotate.SetGeoTransform(ds.GetGeoTransform())\n",
    "ds_rotate.SetProjection(ds.GetProjection())\n",
    "ds_rotate.SetMetadata(ds.GetMetadata())\n",
    "ds_rotate.GetRasterBand(1).Rotate(angle)\n",
    "\n",
    "# Cerrar archivos raster\n",
    "ds = None\n",
    "ds_rotate = None"
   ]
  },
  {
   "cell_type": "code",
   "execution_count": 59,
   "metadata": {},
   "outputs": [
    {
     "ename": "ImportError",
     "evalue": "cannot import name 'rotate' from 'rasterio.warp' (c:\\Users\\Migue Polo\\Documents\\Codigos\\kriging\\venv\\lib\\site-packages\\rasterio\\warp.py)",
     "output_type": "error",
     "traceback": [
      "\u001b[1;31m---------------------------------------------------------------------------\u001b[0m",
      "\u001b[1;31mImportError\u001b[0m                               Traceback (most recent call last)",
      "Cell \u001b[1;32mIn[59], line 2\u001b[0m\n\u001b[0;32m      1\u001b[0m \u001b[39mimport\u001b[39;00m \u001b[39mrasterio\u001b[39;00m\n\u001b[1;32m----> 2\u001b[0m \u001b[39mfrom\u001b[39;00m \u001b[39mrasterio\u001b[39;00m\u001b[39m.\u001b[39;00m\u001b[39mwarp\u001b[39;00m \u001b[39mimport\u001b[39;00m rotate\n",
      "\u001b[1;31mImportError\u001b[0m: cannot import name 'rotate' from 'rasterio.warp' (c:\\Users\\Migue Polo\\Documents\\Codigos\\kriging\\venv\\lib\\site-packages\\rasterio\\warp.py)"
     ]
    }
   ],
   "source": [
    "import rasterio\n",
    "from rasterio.warp import rotate"
   ]
  },
  {
   "cell_type": "code",
   "execution_count": 56,
   "metadata": {},
   "outputs": [],
   "source": [
    "import rasterio\n",
    "import numpy as np\n",
    "from rasterio.warp import calculate_default_transform, reproject, Resampling\n"
   ]
  },
  {
   "cell_type": "code",
   "execution_count": 58,
   "metadata": {},
   "outputs": [
    {
     "ename": "AttributeError",
     "evalue": "'rasterio.crs.CRS' object has no attribute 'transform_point'",
     "output_type": "error",
     "traceback": [
      "\u001b[1;31m---------------------------------------------------------------------------\u001b[0m",
      "\u001b[1;31mAttributeError\u001b[0m                            Traceback (most recent call last)",
      "Cell \u001b[1;32mIn[58], line 7\u001b[0m\n\u001b[0;32m      4\u001b[0m data \u001b[39m=\u001b[39m src\u001b[39m.\u001b[39mread(\u001b[39m1\u001b[39m)\n\u001b[0;32m      6\u001b[0m \u001b[39m# Calcular la transformación para rotar el raster\u001b[39;00m\n\u001b[1;32m----> 7\u001b[0m transform \u001b[39m=\u001b[39m src\u001b[39m.\u001b[39mtransform \u001b[39m*\u001b[39m rasterio\u001b[39m.\u001b[39mAffine\u001b[39m.\u001b[39mrotation(angulo_giro, src\u001b[39m.\u001b[39;49mcrs\u001b[39m.\u001b[39;49mtransform_point(longitud, latitud)[\n\u001b[0;32m      8\u001b[0m                                                      \u001b[39m0\u001b[39m], src\u001b[39m.\u001b[39mcrs\u001b[39m.\u001b[39mtransform_point(longitud, latitud)[\u001b[39m1\u001b[39m])\n\u001b[0;32m      9\u001b[0m \u001b[39m# Crear un nuevo archivo raster con los datos rotados\u001b[39;00m\n\u001b[0;32m     10\u001b[0m \u001b[39mwith\u001b[39;00m rasterio\u001b[39m.\u001b[39mopen(\u001b[39m'\u001b[39m\u001b[39mrotated.tif\u001b[39m\u001b[39m'\u001b[39m, \u001b[39m'\u001b[39m\u001b[39mw\u001b[39m\u001b[39m'\u001b[39m, driver\u001b[39m=\u001b[39m\u001b[39m'\u001b[39m\u001b[39mGTiff\u001b[39m\u001b[39m'\u001b[39m, height\u001b[39m=\u001b[39msrc\u001b[39m.\u001b[39mheight, width\u001b[39m=\u001b[39msrc\u001b[39m.\u001b[39mwidth, count\u001b[39m=\u001b[39m\u001b[39m1\u001b[39m, dtype\u001b[39m=\u001b[39mdata\u001b[39m.\u001b[39mdtype, crs\u001b[39m=\u001b[39msrc\u001b[39m.\u001b[39mcrs, transform\u001b[39m=\u001b[39mtransform) \u001b[39mas\u001b[39;00m dst:\n\u001b[0;32m     11\u001b[0m     \u001b[39m# Escribir los datos rotados en el nuevo archivo\u001b[39;00m\n",
      "\u001b[1;31mAttributeError\u001b[0m: 'rasterio.crs.CRS' object has no attribute 'transform_point'"
     ]
    }
   ],
   "source": [
    "# Abrir el archivo raster original\n",
    "with rasterio.open('data/drone51.TIF') as src:\n",
    "    # Obtener los datos del raster como un array de numpy\n",
    "    data = src.read(1)\n",
    "\n",
    "    # Calcular la transformación para rotar el raster\n",
    "    transform = src.transform * rasterio.Affine.rotation(angulo_giro, src.crs.transform_point(longitud, latitud)[\n",
    "                                                         0], src.crs.transform_point(longitud, latitud)[1])\n",
    "    # Crear un nuevo archivo raster con los datos rotados\n",
    "    with rasterio.open('rotated.tif', 'w', driver='GTiff', height=src.height, width=src.width, count=1, dtype=data.dtype, crs=src.crs, transform=transform) as dst:\n",
    "        # Escribir los datos rotados en el nuevo archivo\n",
    "        dst.write(data, 1)\n"
   ]
  },
  {
   "cell_type": "code",
   "execution_count": 37,
   "metadata": {},
   "outputs": [],
   "source": [
    "from affine import Affine"
   ]
  },
  {
   "cell_type": "code",
   "execution_count": 54,
   "metadata": {},
   "outputs": [
    {
     "data": {
      "text/plain": [
       "Affine(0.7071067811865476, -0.7071067811865476, 1.0,\n",
       "       0.7071067811865476, 0.7071067811865476, 1.0)"
      ]
     },
     "execution_count": 54,
     "metadata": {},
     "output_type": "execute_result"
    }
   ],
   "source": [
    "transform * Affine.translation(1.0, 1.0) * Affine.rotation(45.0)\n",
    "\n",
    "# Affine(3.2940973007100636e-07, 0.0, -74.18575701778406,\n",
    "#        0.0, -3.2940973007373926e-07, 11.226392146324548)\n"
   ]
  },
  {
   "cell_type": "code",
   "execution_count": 13,
   "metadata": {},
   "outputs": [],
   "source": [
    "# Determino las coordenadas de las esquinas\n",
    "esquina_si = (min_lon, max_lat)\n",
    "esquina_sd = (max_lon, max_lat)\n",
    "esquina_ii = (min_lon, min_lat)\n",
    "esquina_id = (max_lon, min_lat)"
   ]
  },
  {
   "cell_type": "code",
   "execution_count": 22,
   "metadata": {},
   "outputs": [
    {
     "name": "stdout",
     "output_type": "stream",
     "text": [
      "[(-74.18525091785402, 11.226415625133368), (-74.18531058223816, 11.225891957554513), (-74.18567639776184, 11.226464102445487), (-74.18573606214598, 11.225940434866631)]\n"
     ]
    }
   ],
   "source": [
    "# Creo un rectángulo con las esquinas\n",
    "# Esquinas del rectángulo\n",
    "rectangle = [esquina_si,\n",
    "             esquina_sd,\n",
    "             esquina_ii,\n",
    "             esquina_id]\n",
    "\n",
    "# Centro del rectángulo\n",
    "center = (float(metadiccionario[\"GpsLongitude\"]),\n",
    "          float(metadiccionario[\"GpsLatitude\"]))\n",
    "\n",
    "# Ángulo de rotación en radianes\n",
    "theta = math.radians(float(metadiccionario[\"GimbalYawDegree\"]))\n",
    "\n",
    "# Rotación de las esquinas del rectángulo\n",
    "rotated_rectangle = []\n",
    "for x, y in rectangle:\n",
    "    x_ = x - center[0]\n",
    "    y_ = y - center[1]\n",
    "    new_x = x_ * math.cos(theta) - y_ * math.sin(theta) + center[0]\n",
    "    new_y = x_ * math.sin(theta) + y_ * math.cos(theta) + center[1]\n",
    "    rotated_rectangle.append((new_x, new_y))\n",
    "\n",
    "print(rotated_rectangle)\n",
    "# En rotated_rectangle se encuentran las esquinas del rectángulo rotado\n",
    "# en 0 está la esquina superior izquierda\n",
    "# en 1 está la esquina superior derecha\n",
    "# en 2 está la esquina inferior izquierda\n",
    "# en 3 está la esquina inferior derecha"
   ]
  },
  {
   "cell_type": "code",
   "execution_count": 23,
   "metadata": {},
   "outputs": [
    {
     "name": "stdout",
     "output_type": "stream",
     "text": [
      "-74.18573606214598 -74.18525091785402 11.225891957554513 11.226464102445487\n"
     ]
    }
   ],
   "source": [
    "# Encuentro los valores máximos y mínimos de las coordenadas\n",
    "x_var = []\n",
    "y_var = []\n",
    "\n",
    "for i in rotated_rectangle:\n",
    "    x_var.append(i[0])\n",
    "    y_var.append(i[1])\n",
    "\n",
    "xmin_rotated = min(x_var)\n",
    "xmax_rotated = max(x_var)\n",
    "ymin_rotated = min(y_var)\n",
    "ymax_rotated = max(y_var)\n",
    "print(xmin_rotated, xmax_rotated, ymin_rotated, ymax_rotated)"
   ]
  },
  {
   "cell_type": "code",
   "execution_count": 24,
   "metadata": {},
   "outputs": [
    {
     "data": {
      "text/plain": [
       "Affine(3.0321518247333755e-07, 0.0, -74.18573606214598,\n",
       "       0.0, -4.4011145459530955e-07, 11.226464102445487)"
      ]
     },
     "execution_count": 24,
     "metadata": {},
     "output_type": "execute_result"
    }
   ],
   "source": [
    "transform_rotated = rasterio.transform.from_bounds(\n",
    "    xmin_rotated, ymin_rotated, xmax_rotated, ymax_rotated, img.width, img.height)\n",
    "transform_rotated\n"
   ]
  },
  {
   "cell_type": "code",
   "execution_count": 25,
   "metadata": {},
   "outputs": [
    {
     "data": {
      "image/png": "[encoded data removed]",
      "text/plain": [
       "<Figure size 640x480 with 1 Axes>"
      ]
     },
     "metadata": {},
     "output_type": "display_data"
    }
   ],
   "source": [
    "# Create figure and axes\n",
    "fig, ax = plt.subplots()\n",
    "\n",
    "# Plot the original rectangle\n",
    "x = [c[0] for c in rectangle] + [rectangle[0][0]]\n",
    "y = [c[1] for c in rectangle] + [rectangle[0][1]]\n",
    "ax.plot(x, y, 'b-', linewidth=2)\n",
    "\n",
    "# Plot the rotated rectangle\n",
    "x = [c[0] for c in rotated_rectangle] + [rotated_rectangle[0][0]]\n",
    "y = [c[1] for c in rotated_rectangle] + [rotated_rectangle[0][1]]\n",
    "ax.plot(x, y, 'r-', linewidth=2)\n",
    "\n",
    "# Show the plot\n",
    "plt.show()"
   ]
  },
  {
   "cell_type": "code",
   "execution_count": 28,
   "metadata": {},
   "outputs": [],
   "source": [
    "from matplotlib import pyplot"
   ]
  },
  {
   "cell_type": "code",
   "execution_count": 36,
   "metadata": {},
   "outputs": [
    {
     "name": "stdout",
     "output_type": "stream",
     "text": [
      "BoundingBox(left=100.0, bottom=70.0961894323342, right=348.20508075688775, top=300.0)\n"
     ]
    },
    {
     "data": {
      "image/png": "[encoded data removed]",
      "text/plain": [
       "<Figure size 640x480 with 1 Axes>"
      ]
     },
     "metadata": {},
     "output_type": "display_data"
    }
   ],
   "source": [
    "def test_rotated_bounds():\n",
    "    with rasterio.open('data/rotated.tif') as src:\n",
    "        print(src.bounds)\n",
    "        pyplot.imshow(src.read(1))\n",
    "        assert src.res == (20.0, 10.0)\n",
    "        np.testing.assert_almost_equal(\n",
    "            src.bounds,\n",
    "            (100.0, 70.0961894323342, 348.20508075688775, 300.0))\n",
    "\n",
    "test_rotated_bounds()"
   ]
  },
  {
   "cell_type": "code",
   "execution_count": 31,
   "metadata": {},
   "outputs": [
    {
     "name": "stderr",
     "output_type": "stream",
     "text": [
      "c:\\Users\\Migue Polo\\Documents\\Codigos\\kriging\\venv\\lib\\site-packages\\rasterio\\__init__.py:332: NotGeoreferencedWarning: Dataset has no geotransform, gcps, or rpcs. The identity matrix will be returned.\n",
      "  dataset = DatasetReader(path, driver=driver, sharing=sharing, **kwargs)\n"
     ]
    },
    {
     "ename": "TypeError",
     "evalue": "Image data of dtype object cannot be converted to float",
     "output_type": "error",
     "traceback": [
      "\u001b[1;31m---------------------------------------------------------------------------\u001b[0m",
      "\u001b[1;31mTypeError\u001b[0m                                 Traceback (most recent call last)",
      "Cell \u001b[1;32mIn[31], line 19\u001b[0m\n\u001b[0;32m      7\u001b[0m \u001b[39mwith\u001b[39;00m rasterio\u001b[39m.\u001b[39mopen(\n\u001b[0;32m      8\u001b[0m     \u001b[39m'\u001b[39m\u001b[39mdata/drone51ROTATEEEE1.TIF\u001b[39m\u001b[39m'\u001b[39m,\n\u001b[0;32m      9\u001b[0m     \u001b[39m'\u001b[39m\u001b[39mw\u001b[39m\u001b[39m'\u001b[39m,\n\u001b[1;32m   (...)\u001b[0m\n\u001b[0;32m     16\u001b[0m     transform\u001b[39m=\u001b[39mtransform_rotated,\n\u001b[0;32m     17\u001b[0m ) \u001b[39mas\u001b[39;00m dst:\n\u001b[0;32m     18\u001b[0m     dst\u001b[39m.\u001b[39mwrite(image)\n\u001b[1;32m---> 19\u001b[0m     pyplot\u001b[39m.\u001b[39;49mimshow(dst)\n",
      "File \u001b[1;32mc:\\Users\\Migue Polo\\Documents\\Codigos\\kriging\\venv\\lib\\site-packages\\matplotlib\\_api\\deprecation.py:454\u001b[0m, in \u001b[0;36mmake_keyword_only.<locals>.wrapper\u001b[1;34m(*args, **kwargs)\u001b[0m\n\u001b[0;32m    448\u001b[0m \u001b[39mif\u001b[39;00m \u001b[39mlen\u001b[39m(args) \u001b[39m>\u001b[39m name_idx:\n\u001b[0;32m    449\u001b[0m     warn_deprecated(\n\u001b[0;32m    450\u001b[0m         since, message\u001b[39m=\u001b[39m\u001b[39m\"\u001b[39m\u001b[39mPassing the \u001b[39m\u001b[39m%(name)s\u001b[39;00m\u001b[39m \u001b[39m\u001b[39m%(obj_type)s\u001b[39;00m\u001b[39m \u001b[39m\u001b[39m\"\u001b[39m\n\u001b[0;32m    451\u001b[0m         \u001b[39m\"\u001b[39m\u001b[39mpositionally is deprecated since Matplotlib \u001b[39m\u001b[39m%(since)s\u001b[39;00m\u001b[39m; the \u001b[39m\u001b[39m\"\u001b[39m\n\u001b[0;32m    452\u001b[0m         \u001b[39m\"\u001b[39m\u001b[39mparameter will become keyword-only \u001b[39m\u001b[39m%(removal)s\u001b[39;00m\u001b[39m.\u001b[39m\u001b[39m\"\u001b[39m,\n\u001b[0;32m    453\u001b[0m         name\u001b[39m=\u001b[39mname, obj_type\u001b[39m=\u001b[39m\u001b[39mf\u001b[39m\u001b[39m\"\u001b[39m\u001b[39mparameter of \u001b[39m\u001b[39m{\u001b[39;00mfunc\u001b[39m.\u001b[39m\u001b[39m__name__\u001b[39m\u001b[39m}\u001b[39;00m\u001b[39m()\u001b[39m\u001b[39m\"\u001b[39m)\n\u001b[1;32m--> 454\u001b[0m \u001b[39mreturn\u001b[39;00m func(\u001b[39m*\u001b[39margs, \u001b[39m*\u001b[39m\u001b[39m*\u001b[39mkwargs)\n",
      "File \u001b[1;32mc:\\Users\\Migue Polo\\Documents\\Codigos\\kriging\\venv\\lib\\site-packages\\matplotlib\\pyplot.py:2623\u001b[0m, in \u001b[0;36mimshow\u001b[1;34m(X, cmap, norm, aspect, interpolation, alpha, vmin, vmax, origin, extent, interpolation_stage, filternorm, filterrad, resample, url, data, **kwargs)\u001b[0m\n\u001b[0;32m   2617\u001b[0m \u001b[39m@_copy_docstring_and_deprecators\u001b[39m(Axes\u001b[39m.\u001b[39mimshow)\n\u001b[0;32m   2618\u001b[0m \u001b[39mdef\u001b[39;00m \u001b[39mimshow\u001b[39m(\n\u001b[0;32m   2619\u001b[0m         X, cmap\u001b[39m=\u001b[39m\u001b[39mNone\u001b[39;00m, norm\u001b[39m=\u001b[39m\u001b[39mNone\u001b[39;00m, aspect\u001b[39m=\u001b[39m\u001b[39mNone\u001b[39;00m, interpolation\u001b[39m=\u001b[39m\u001b[39mNone\u001b[39;00m,\n\u001b[0;32m   2620\u001b[0m         alpha\u001b[39m=\u001b[39m\u001b[39mNone\u001b[39;00m, vmin\u001b[39m=\u001b[39m\u001b[39mNone\u001b[39;00m, vmax\u001b[39m=\u001b[39m\u001b[39mNone\u001b[39;00m, origin\u001b[39m=\u001b[39m\u001b[39mNone\u001b[39;00m, extent\u001b[39m=\u001b[39m\u001b[39mNone\u001b[39;00m, \u001b[39m*\u001b[39m,\n\u001b[0;32m   2621\u001b[0m         interpolation_stage\u001b[39m=\u001b[39m\u001b[39mNone\u001b[39;00m, filternorm\u001b[39m=\u001b[39m\u001b[39mTrue\u001b[39;00m, filterrad\u001b[39m=\u001b[39m\u001b[39m4.0\u001b[39m,\n\u001b[0;32m   2622\u001b[0m         resample\u001b[39m=\u001b[39m\u001b[39mNone\u001b[39;00m, url\u001b[39m=\u001b[39m\u001b[39mNone\u001b[39;00m, data\u001b[39m=\u001b[39m\u001b[39mNone\u001b[39;00m, \u001b[39m*\u001b[39m\u001b[39m*\u001b[39mkwargs):\n\u001b[1;32m-> 2623\u001b[0m     __ret \u001b[39m=\u001b[39m gca()\u001b[39m.\u001b[39mimshow(\n\u001b[0;32m   2624\u001b[0m         X, cmap\u001b[39m=\u001b[39mcmap, norm\u001b[39m=\u001b[39mnorm, aspect\u001b[39m=\u001b[39maspect,\n\u001b[0;32m   2625\u001b[0m         interpolation\u001b[39m=\u001b[39minterpolation, alpha\u001b[39m=\u001b[39malpha, vmin\u001b[39m=\u001b[39mvmin,\n\u001b[0;32m   2626\u001b[0m         vmax\u001b[39m=\u001b[39mvmax, origin\u001b[39m=\u001b[39morigin, extent\u001b[39m=\u001b[39mextent,\n\u001b[0;32m   2627\u001b[0m         interpolation_stage\u001b[39m=\u001b[39minterpolation_stage,\n\u001b[0;32m   2628\u001b[0m         filternorm\u001b[39m=\u001b[39mfilternorm, filterrad\u001b[39m=\u001b[39mfilterrad, resample\u001b[39m=\u001b[39mresample,\n\u001b[0;32m   2629\u001b[0m         url\u001b[39m=\u001b[39murl, \u001b[39m*\u001b[39m\u001b[39m*\u001b[39m({\u001b[39m\"\u001b[39m\u001b[39mdata\u001b[39m\u001b[39m\"\u001b[39m: data} \u001b[39mif\u001b[39;00m data \u001b[39mis\u001b[39;00m \u001b[39mnot\u001b[39;00m \u001b[39mNone\u001b[39;00m \u001b[39melse\u001b[39;00m {}),\n\u001b[0;32m   2630\u001b[0m         \u001b[39m*\u001b[39m\u001b[39m*\u001b[39mkwargs)\n\u001b[0;32m   2631\u001b[0m     sci(__ret)\n\u001b[0;32m   2632\u001b[0m     \u001b[39mreturn\u001b[39;00m __ret\n",
      "File \u001b[1;32mc:\\Users\\Migue Polo\\Documents\\Codigos\\kriging\\venv\\lib\\site-packages\\matplotlib\\_api\\deprecation.py:454\u001b[0m, in \u001b[0;36mmake_keyword_only.<locals>.wrapper\u001b[1;34m(*args, **kwargs)\u001b[0m\n\u001b[0;32m    448\u001b[0m \u001b[39mif\u001b[39;00m \u001b[39mlen\u001b[39m(args) \u001b[39m>\u001b[39m name_idx:\n\u001b[0;32m    449\u001b[0m     warn_deprecated(\n\u001b[0;32m    450\u001b[0m         since, message\u001b[39m=\u001b[39m\u001b[39m\"\u001b[39m\u001b[39mPassing the \u001b[39m\u001b[39m%(name)s\u001b[39;00m\u001b[39m \u001b[39m\u001b[39m%(obj_type)s\u001b[39;00m\u001b[39m \u001b[39m\u001b[39m\"\u001b[39m\n\u001b[0;32m    451\u001b[0m         \u001b[39m\"\u001b[39m\u001b[39mpositionally is deprecated since Matplotlib \u001b[39m\u001b[39m%(since)s\u001b[39;00m\u001b[39m; the \u001b[39m\u001b[39m\"\u001b[39m\n\u001b[0;32m    452\u001b[0m         \u001b[39m\"\u001b[39m\u001b[39mparameter will become keyword-only \u001b[39m\u001b[39m%(removal)s\u001b[39;00m\u001b[39m.\u001b[39m\u001b[39m\"\u001b[39m,\n\u001b[0;32m    453\u001b[0m         name\u001b[39m=\u001b[39mname, obj_type\u001b[39m=\u001b[39m\u001b[39mf\u001b[39m\u001b[39m\"\u001b[39m\u001b[39mparameter of \u001b[39m\u001b[39m{\u001b[39;00mfunc\u001b[39m.\u001b[39m\u001b[39m__name__\u001b[39m\u001b[39m}\u001b[39;00m\u001b[39m()\u001b[39m\u001b[39m\"\u001b[39m)\n\u001b[1;32m--> 454\u001b[0m \u001b[39mreturn\u001b[39;00m func(\u001b[39m*\u001b[39margs, \u001b[39m*\u001b[39m\u001b[39m*\u001b[39mkwargs)\n",
      "File \u001b[1;32mc:\\Users\\Migue Polo\\Documents\\Codigos\\kriging\\venv\\lib\\site-packages\\matplotlib\\__init__.py:1423\u001b[0m, in \u001b[0;36m_preprocess_data.<locals>.inner\u001b[1;34m(ax, data, *args, **kwargs)\u001b[0m\n\u001b[0;32m   1420\u001b[0m \u001b[39m@functools\u001b[39m\u001b[39m.\u001b[39mwraps(func)\n\u001b[0;32m   1421\u001b[0m \u001b[39mdef\u001b[39;00m \u001b[39minner\u001b[39m(ax, \u001b[39m*\u001b[39margs, data\u001b[39m=\u001b[39m\u001b[39mNone\u001b[39;00m, \u001b[39m*\u001b[39m\u001b[39m*\u001b[39mkwargs):\n\u001b[0;32m   1422\u001b[0m     \u001b[39mif\u001b[39;00m data \u001b[39mis\u001b[39;00m \u001b[39mNone\u001b[39;00m:\n\u001b[1;32m-> 1423\u001b[0m         \u001b[39mreturn\u001b[39;00m func(ax, \u001b[39m*\u001b[39m\u001b[39mmap\u001b[39m(sanitize_sequence, args), \u001b[39m*\u001b[39m\u001b[39m*\u001b[39mkwargs)\n\u001b[0;32m   1425\u001b[0m     bound \u001b[39m=\u001b[39m new_sig\u001b[39m.\u001b[39mbind(ax, \u001b[39m*\u001b[39margs, \u001b[39m*\u001b[39m\u001b[39m*\u001b[39mkwargs)\n\u001b[0;32m   1426\u001b[0m     auto_label \u001b[39m=\u001b[39m (bound\u001b[39m.\u001b[39marguments\u001b[39m.\u001b[39mget(label_namer)\n\u001b[0;32m   1427\u001b[0m                   \u001b[39mor\u001b[39;00m bound\u001b[39m.\u001b[39mkwargs\u001b[39m.\u001b[39mget(label_namer))\n",
      "File \u001b[1;32mc:\\Users\\Migue Polo\\Documents\\Codigos\\kriging\\venv\\lib\\site-packages\\matplotlib\\axes\\_axes.py:5604\u001b[0m, in \u001b[0;36mAxes.imshow\u001b[1;34m(self, X, cmap, norm, aspect, interpolation, alpha, vmin, vmax, origin, extent, interpolation_stage, filternorm, filterrad, resample, url, **kwargs)\u001b[0m\n\u001b[0;32m   5596\u001b[0m \u001b[39mself\u001b[39m\u001b[39m.\u001b[39mset_aspect(aspect)\n\u001b[0;32m   5597\u001b[0m im \u001b[39m=\u001b[39m mimage\u001b[39m.\u001b[39mAxesImage(\u001b[39mself\u001b[39m, cmap\u001b[39m=\u001b[39mcmap, norm\u001b[39m=\u001b[39mnorm,\n\u001b[0;32m   5598\u001b[0m                       interpolation\u001b[39m=\u001b[39minterpolation, origin\u001b[39m=\u001b[39morigin,\n\u001b[0;32m   5599\u001b[0m                       extent\u001b[39m=\u001b[39mextent, filternorm\u001b[39m=\u001b[39mfilternorm,\n\u001b[0;32m   5600\u001b[0m                       filterrad\u001b[39m=\u001b[39mfilterrad, resample\u001b[39m=\u001b[39mresample,\n\u001b[0;32m   5601\u001b[0m                       interpolation_stage\u001b[39m=\u001b[39minterpolation_stage,\n\u001b[0;32m   5602\u001b[0m                       \u001b[39m*\u001b[39m\u001b[39m*\u001b[39mkwargs)\n\u001b[1;32m-> 5604\u001b[0m im\u001b[39m.\u001b[39;49mset_data(X)\n\u001b[0;32m   5605\u001b[0m im\u001b[39m.\u001b[39mset_alpha(alpha)\n\u001b[0;32m   5606\u001b[0m \u001b[39mif\u001b[39;00m im\u001b[39m.\u001b[39mget_clip_path() \u001b[39mis\u001b[39;00m \u001b[39mNone\u001b[39;00m:\n\u001b[0;32m   5607\u001b[0m     \u001b[39m# image does not already have clipping set, clip to axes patch\u001b[39;00m\n",
      "File \u001b[1;32mc:\\Users\\Migue Polo\\Documents\\Codigos\\kriging\\venv\\lib\\site-packages\\matplotlib\\image.py:701\u001b[0m, in \u001b[0;36m_ImageBase.set_data\u001b[1;34m(self, A)\u001b[0m\n\u001b[0;32m    697\u001b[0m \u001b[39mself\u001b[39m\u001b[39m.\u001b[39m_A \u001b[39m=\u001b[39m cbook\u001b[39m.\u001b[39msafe_masked_invalid(A, copy\u001b[39m=\u001b[39m\u001b[39mTrue\u001b[39;00m)\n\u001b[0;32m    699\u001b[0m \u001b[39mif\u001b[39;00m (\u001b[39mself\u001b[39m\u001b[39m.\u001b[39m_A\u001b[39m.\u001b[39mdtype \u001b[39m!=\u001b[39m np\u001b[39m.\u001b[39muint8 \u001b[39mand\u001b[39;00m\n\u001b[0;32m    700\u001b[0m         \u001b[39mnot\u001b[39;00m np\u001b[39m.\u001b[39mcan_cast(\u001b[39mself\u001b[39m\u001b[39m.\u001b[39m_A\u001b[39m.\u001b[39mdtype, \u001b[39mfloat\u001b[39m, \u001b[39m\"\u001b[39m\u001b[39msame_kind\u001b[39m\u001b[39m\"\u001b[39m)):\n\u001b[1;32m--> 701\u001b[0m     \u001b[39mraise\u001b[39;00m \u001b[39mTypeError\u001b[39;00m(\u001b[39m\"\u001b[39m\u001b[39mImage data of dtype \u001b[39m\u001b[39m{}\u001b[39;00m\u001b[39m cannot be converted to \u001b[39m\u001b[39m\"\u001b[39m\n\u001b[0;32m    702\u001b[0m                     \u001b[39m\"\u001b[39m\u001b[39mfloat\u001b[39m\u001b[39m\"\u001b[39m\u001b[39m.\u001b[39mformat(\u001b[39mself\u001b[39m\u001b[39m.\u001b[39m_A\u001b[39m.\u001b[39mdtype))\n\u001b[0;32m    704\u001b[0m \u001b[39mif\u001b[39;00m \u001b[39mself\u001b[39m\u001b[39m.\u001b[39m_A\u001b[39m.\u001b[39mndim \u001b[39m==\u001b[39m \u001b[39m3\u001b[39m \u001b[39mand\u001b[39;00m \u001b[39mself\u001b[39m\u001b[39m.\u001b[39m_A\u001b[39m.\u001b[39mshape[\u001b[39m-\u001b[39m\u001b[39m1\u001b[39m] \u001b[39m==\u001b[39m \u001b[39m1\u001b[39m:\n\u001b[0;32m    705\u001b[0m     \u001b[39m# If just one dimension assume scalar and apply colormap\u001b[39;00m\n\u001b[0;32m    706\u001b[0m     \u001b[39mself\u001b[39m\u001b[39m.\u001b[39m_A \u001b[39m=\u001b[39m \u001b[39mself\u001b[39m\u001b[39m.\u001b[39m_A[:, :, \u001b[39m0\u001b[39m]\n",
      "\u001b[1;31mTypeError\u001b[0m: Image data of dtype object cannot be converted to float"
     ]
    },
    {
     "data": {
      "image/png": "[encoded data removed]",
      "text/plain": [
       "<Figure size 640x480 with 1 Axes>"
      ]
     },
     "metadata": {},
     "output_type": "display_data"
    }
   ],
   "source": [
    "# Abrir el archivo original\n",
    "with rasterio.open(imagen) as src:\n",
    "    # Leer los datos de la imagen\n",
    "    image = src.read()\n",
    "\n",
    "    # Crear una copia del archivo\n",
    "    with rasterio.open(\n",
    "        'data/drone51ROTATEEEE1.TIF',\n",
    "        'w',\n",
    "        driver='GTiff',\n",
    "        height=src.height,\n",
    "        width=src.width,\n",
    "        count=1,\n",
    "        dtype=\"float64\",\n",
    "        crs={\"init\": \"epsg:4326\"},\n",
    "        transform=transform_rotated,\n",
    "    ) as dst:\n",
    "        dst.write(image)\n"
   ]
  }
 ],
 "metadata": {
  "kernelspec": {
   "display_name": "venv",
   "language": "python",
   "name": "python3"
  },
  "language_info": {
   "codemirror_mode": {
    "name": "ipython",
    "version": 3
   },
   "file_extension": ".py",
   "mimetype": "text/x-python",
   "name": "python",
   "nbconvert_exporter": "python",
   "pygments_lexer": "ipython3",
   "version": "3.9.13 (tags/v3.9.13:6de2ca5, May 17 2022, 16:36:42) [MSC v.1929 64 bit (AMD64)]"
  },
  "orig_nbformat": 4,
  "vscode": {
   "interpreter": {
    "hash": "8c331df6f17fe20001c0ab0f3b9a95f235b4ac52409adcdc77ff1039244255d0"
   }
  }
 },
 "nbformat": 4,
 "nbformat_minor": 2
}
