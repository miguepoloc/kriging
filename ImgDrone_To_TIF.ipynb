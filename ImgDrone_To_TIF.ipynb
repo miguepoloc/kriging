{
 "cells": [
  {
   "attachments": {},
   "cell_type": "markdown",
   "metadata": {},
   "source": [
    "Código para la creación de imagen tiff con metadatos de drone"
   ]
  },
  {
   "cell_type": "code",
   "execution_count": 27,
   "metadata": {},
   "outputs": [],
   "source": [
    "from PIL import Image\n",
    "from PIL.TiffTags import TAGS\n",
    "import re\n",
    "import rasterio\n",
    "import numpy as np"
   ]
  },
  {
   "cell_type": "code",
   "execution_count": 28,
   "metadata": {},
   "outputs": [],
   "source": [
    "# obtenemos la imagen .tif\n",
    "imagen = \"./data/fotos/DJI_0051.TIF\"\n",
    "img = Image.open(imagen)\n",
    "# obtenemos los Tags de la metadata y se almacenan en un diccionario\n",
    "meta_dict = {TAGS[key]: img.tag[key] for key in img.tag_v2}\n",
    "# Se imprime el diccionario para obtener la composición de los datos\n",
    "# for rec in meta_dict:\n",
    "#     print(rec, \":\", meta_dict[rec])\n"
   ]
  },
  {
   "cell_type": "code",
   "execution_count": 29,
   "metadata": {},
   "outputs": [],
   "source": [
    "# Extraemos el indicador xmp\n",
    "p = meta_dict.get(\"XMP\")\n",
    "s = p.decode(\"UTF-8\")\n",
    "# dividimos por el salto de linea y obtenemos una lista\n",
    "div = s.split(\"\\n\")"
   ]
  },
  {
   "cell_type": "code",
   "execution_count": 30,
   "metadata": {},
   "outputs": [
    {
     "data": {
      "text/plain": [
       "'drone-dji:AbsoluteAltitude=\"+84.65\"'"
      ]
     },
     "execution_count": 30,
     "metadata": {},
     "output_type": "execute_result"
    }
   ],
   "source": [
    "#eliminamos los espacios vacios \n",
    "\n",
    "for ind,recorrido in enumerate(div):\n",
    "    div[ind]=recorrido.strip() \n",
    "\n",
    "div[17]"
   ]
  },
  {
   "cell_type": "code",
   "execution_count": 31,
   "metadata": {},
   "outputs": [
    {
     "name": "stdout",
     "output_type": "stream",
     "text": [
      "AbsoluteAltitude\n",
      "+84.65\n"
     ]
    }
   ],
   "source": [
    "usar = div[17]\n",
    "\n",
    "result = re.search(\":(.*)=\", div[17])\n",
    "result.group(1)\n",
    "\n",
    "result2 = re.search(\"\\\"(.*)\\\"\", div[17])\n",
    "result2.group(1)\n",
    "\n",
    "print(result.group(1))\n",
    "print(result2.group(1))\n"
   ]
  },
  {
   "attachments": {},
   "cell_type": "markdown",
   "metadata": {},
   "source": [
    "Creo un diccionario donde almaceno las variables de la metadata con su valor"
   ]
  },
  {
   "cell_type": "code",
   "execution_count": 32,
   "metadata": {},
   "outputs": [
    {
     "name": "stdout",
     "output_type": "stream",
     "text": [
      "{'xmpmeta xmlns:x': 'adobe:ns:meta/', 'RDF xmlns:rdf': 'http://www.w3.org/1999/02/22-rdf-syntax-ns#', 'Description rdf:about': 'DJI Meta Data', 'tiff': 'http://ns.adobe.com/tiff/1.0/', 'exif': 'http://ns.adobe.com/exif/1.0/', 'xmp': 'http://ns.adobe.com/xap/1.0/', 'xmpMM': 'http://ns.adobe.com/xap/1.0/mm/', 'dc': 'http://purl.org/dc/elements/1.1/', 'crs': 'http://ns.adobe.com/camera-raw-settings/1.0/', 'drone-dji': 'http://www.dji.com/drone-dji/1.0/', 'Camera': 'http://pix4d.com/camera/1.0', 'ModifyDate': '2022-02-11', 'CreateDate': '2022-02-11', 'Make': 'DJI', 'Model': 'FC6360', 'format': 'image/TIF', 'AbsoluteAltitude': '+84.65', 'RelativeAltitude': '+70.03', 'GpsLatitude': '11.22617803', 'GpsLongitude': '-74.18549349', 'GimbalRollDegree': '+0.00', 'GimbalYawDegree': '-96.50', 'GimbalPitchDegree': '-89.90', 'FlightRollDegree': '+6.40', 'FlightYawDegree': '-95.30', 'FlightPitchDegree': '+6.50', 'FlightXSpeed': '+0.10', 'FlightYSpeed': '+0.40', 'FlightZSpeed': '+0.00', 'CamReverse': '0', 'GimbalReverse': '0', 'SelfData': 'Undefined', 'CalibratedFocalLength': '1913.333374', 'CalibratedOpticalCenterX': '800.000000', 'CalibratedOpticalCenterY': '650.000000', 'RtkFlag': '50', 'RtkSrcType': '2', 'RtkStdLon': '0.01331', 'RtkStdLat': '0.01156', 'RtkStdHgt': '0.02916', 'RelativeOpticalCenterX': '-9.81250', 'RelativeOpticalCenterY': '-0.87500', 'DewarpFlag': '0', 'DewarpData': '2019-02-04;1946.6899414,1938.1800537,8.2410278,0.6400146,-0.4091410,0.3551550,0.0014017,0.0014017,-0.3881310', 'DewarpHMatrix': '1.0080700,-0.0037179,6.8375001,0.0051800,0.9988350,-13.7370996,0.0000153,-0.0000099,1.0000000', 'VignettingFlag': '0', 'VignettingData': '0.000218235, 1.20722e-6, -2.8676e-9, 5.1742e-12, -4.16853e-15, 1.36962e-18', 'LS_type': '1', 'Package_idx': '181', 'Cfg_cnt': '1', 'RawData': '7428.000 8975.000 9347.000 9060.000 9861.000 7509.000 8346.000 9800.000 9244.000 10543.000 3752.000 1561.000 2007.000 4029.000 6019.000 5501.000 7153.000 6958.000 ', 'BandName': 'Blue', 'BandFreq': '450(+/-16)nm', 'Irradiance': '10366.984', 'SensorGain': '1.000', 'ExposureTime': '316', 'SensorGainAdjustment': '2.176354', 'SensorIndex': '1', 'CaptureUUID': '7ecd05a7e4c011eb9562ce3ccab36997', 'DroneID': 'ce3ccab369970d2995b38aac35c75ff8', 'Version': '7.0', 'HasSettings': 'False', 'HasCrop': 'False', 'AlreadyApplied': 'False'}\n"
     ]
    }
   ],
   "source": [
    "metadiccionario = {}\n",
    "for ind,recorrido in enumerate(div):\n",
    "    try:\n",
    "        metadiccionario[re.search(\":(.*)=\", div[ind]).group(1)] = re.search(\"\\\"(.*)\\\"\", div[ind]).group(1)\n",
    "    except:\n",
    "        pass\n",
    "\n",
    "print(metadiccionario)"
   ]
  },
  {
   "attachments": {},
   "cell_type": "markdown",
   "metadata": {},
   "source": [
    "Se calcula la resolución en metros por pixel.\n",
    "Es decir, a cuantos metros equivale un pixel"
   ]
  },
  {
   "cell_type": "code",
   "execution_count": 33,
   "metadata": {},
   "outputs": [
    {
     "data": {
      "text/plain": [
       "0.03660104451823564"
      ]
     },
     "execution_count": 33,
     "metadata": {},
     "output_type": "execute_result"
    }
   ],
   "source": [
    "resolucion = float(metadiccionario[\"RelativeAltitude\"])/float(metadiccionario[\"CalibratedFocalLength\"])\n",
    "resolucion"
   ]
  },
  {
   "cell_type": "code",
   "execution_count": 34,
   "metadata": {},
   "outputs": [
    {
     "name": "stderr",
     "output_type": "stream",
     "text": [
      "c:\\Users\\Migue Polo\\.virtualenvs\\kriging-y0ZA2chP\\lib\\site-packages\\rasterio\\__init__.py:332: NotGeoreferencedWarning: Dataset has no geotransform, gcps, or rpcs. The identity matrix will be returned.\n",
      "  dataset = DatasetReader(path, driver=driver, sharing=sharing, **kwargs)\n"
     ]
    }
   ],
   "source": [
    "# Abrir la imagen\n",
    "with rasterio.open(imagen) as src:\n",
    "    # Obtener la información de la imagen\n",
    "    width = src.width\n",
    "    height = src.height\n",
    "    transform = src.transform\n",
    "    crs = src.crs\n"
   ]
  },
  {
   "attachments": {},
   "cell_type": "markdown",
   "metadata": {},
   "source": [
    "Cálculo de las coordenadas de las esquinas la imagen"
   ]
  },
  {
   "attachments": {},
   "cell_type": "markdown",
   "metadata": {},
   "source": [
    "Se divide entre 111111 para convertir los metros en grados. Esto se debe a que 1 grado de longitud o latitud en el ecuador es aproximadamente 111.111 km de ancho. Dado que la longitud y la latitud son medidas en grados, se debe convertir el tamaño de los píxeles en metros a grados para poder calcular las coordenadas extremas en grados.\n",
    "Donde el ancho de la imagen en metros se divide entre la distancia en metros por grado para obtener la diferencia en grados. El factor 111111 es una aproximación, ya que la distancia en metros por grado varía según la latitud. Sin embargo, esta aproximación es suficiente para una precisión razonable.\n",
    "\n",
    "Es importante tener en cuenta que esta conversión solo es válida para latitudes cercanas al ecuador, ya que la distancia en metros por grado varía según la latitud."
   ]
  },
  {
   "cell_type": "code",
   "execution_count": 35,
   "metadata": {},
   "outputs": [
    {
     "name": "stdout",
     "output_type": "stream",
     "text": [
      "-74.18575701778406 -74.18522996221594 11.225963913675452 11.226392146324548\n"
     ]
    }
   ],
   "source": [
    "# Calcular las coordenadas de los extremos en metros\n",
    "min_lon = float(metadiccionario[\"GpsLongitude\"]) - (\n",
    "    float(metadiccionario[\"CalibratedOpticalCenterX\"]) * resolucion) / 111111\n",
    "max_lon = float(metadiccionario[\"GpsLongitude\"]) + (\n",
    "    float(metadiccionario[\"CalibratedOpticalCenterX\"]) * resolucion) / 111111\n",
    "min_lat = float(metadiccionario[\"GpsLatitude\"]) - (\n",
    "    float(metadiccionario[\"CalibratedOpticalCenterY\"]) * resolucion) / 111111\n",
    "max_lat = float(metadiccionario[\"GpsLatitude\"]) + (\n",
    "    float(metadiccionario[\"CalibratedOpticalCenterY\"]) * resolucion) / 111111\n",
    "print(min_lon, max_lon, min_lat, max_lat)\n"
   ]
  },
  {
   "cell_type": "code",
   "execution_count": 36,
   "metadata": {},
   "outputs": [
    {
     "data": {
      "text/plain": [
       "Affine(3.2940973007100636e-07, 0.0, -74.18575701778406,\n",
       "       0.0, -3.2940973007373926e-07, 11.226392146324548)"
      ]
     },
     "execution_count": 36,
     "metadata": {},
     "output_type": "execute_result"
    }
   ],
   "source": [
    "transform = rasterio.transform.from_bounds(\n",
    "    min_lon, min_lat, max_lon, max_lat, img.width, img.height)\n",
    "transform\n"
   ]
  },
  {
   "attachments": {},
   "cell_type": "markdown",
   "metadata": {},
   "source": [
    "Leo la imagen con rasterio y luego la guardo con las coordenadas correspondientes y como archivo tiff"
   ]
  },
  {
   "cell_type": "code",
   "execution_count": 37,
   "metadata": {},
   "outputs": [],
   "source": [
    "# Abrir el archivo original\n",
    "with rasterio.open(imagen) as src:\n",
    "    # Leer los datos de la imagen\n",
    "    image = src.read()\n",
    "\n",
    "    # Crear una copia del archivo\n",
    "    with rasterio.open(\n",
    "        'data/test_drone51x.TIF',\n",
    "        'w',\n",
    "        driver='GTiff',\n",
    "        height=src.height,\n",
    "        width=src.width,\n",
    "        count=1,\n",
    "        dtype=\"float64\",\n",
    "        crs={\"init\": \"epsg:4326\"},\n",
    "        transform=transform,\n",
    "    ) as dst:\n",
    "        dst.write(image)\n"
   ]
  },
  {
   "attachments": {},
   "cell_type": "markdown",
   "metadata": {},
   "source": [
    "*Aquí empiezo a probar la rotación de la imagen*"
   ]
  },
  {
   "cell_type": "code",
   "execution_count": 19,
   "metadata": {},
   "outputs": [],
   "source": [
    "from rasterio.warp import transform_bounds\n",
    "from rasterio.transform import Affine\n",
    "import math"
   ]
  },
  {
   "cell_type": "code",
   "execution_count": 26,
   "metadata": {},
   "outputs": [
    {
     "name": "stdout",
     "output_type": "stream",
     "text": [
      "{'driver': 'GTiff', 'dtype': 'float64', 'nodata': None, 'width': 1600, 'height': 1300, 'count': 1, 'crs': CRS.from_epsg(4326), 'transform': Affine(3.9817983221723807e-07, 0.0, -74.18581203386577,\n",
      "       0.0, -3.9817983222543666e-07, 11.226436846890946), 'blockysize': 1, 'tiled': False, 'interleave': 'band'}\n"
     ]
    }
   ],
   "source": [
    "# Abrir el archivo original\n",
    "with rasterio.open('data/test_drone51.TIF') as src:\n",
    "    # Leer los datos de la imagen\n",
    "    image = src.read()\n",
    "\n",
    "    # Obtener los metadatos de la imagen\n",
    "    profile = src.profile\n",
    "    print(profile)\n",
    "    # Obtener la transformación afín del archivo\n",
    "    transform = src.transform\n",
    "\n",
    "    # Calcular la transformación afín rotada\n",
    "    # angle = float(metadiccionario[\"GimbalYawDegree\"])\n",
    "    # Calcular la transformación afín rotada\n",
    "    rotation = Affine.rotation(math.radians(-96.50))\n",
    "    new_transform = rotation * transform\n",
    "\n",
    "    # # Calcular las esquinas rotadas\n",
    "    # ul, ur, ll, lr = transform_bounds(\n",
    "    #     profile[\"crs\"], new_transform, *src.bounds)\n",
    "    # print(\"Esquinas rotadas:\")\n",
    "    # print(\"UL:\", ul)\n",
    "    # print(\"UR:\", ur)\n",
    "    # print(\"LL:\", ll)\n",
    "    # print(\"LR:\", lr)\n",
    "\n",
    "    # # Crear una copia del archivo\n",
    "    # with rasterio.open(\n",
    "    #     'data/test_drone51_rotate3.TIF',\n",
    "    #     'w',\n",
    "    #     driver='GTiff',\n",
    "    #     height=src.height,\n",
    "    #     width=src.width,\n",
    "    #     count=1,\n",
    "    #     dtype=\"float64\",\n",
    "    #     crs={\"init\": \"epsg:4326\"},\n",
    "    #     transform=transform,\n",
    "    # ) as dst:\n",
    "    #     dst.write(src.read())\n"
   ]
  },
  {
   "cell_type": "code",
   "execution_count": 12,
   "metadata": {},
   "outputs": [],
   "source": [
    "import contextily as cx"
   ]
  },
  {
   "cell_type": "code",
   "execution_count": 13,
   "metadata": {},
   "outputs": [
    {
     "ename": "AttributeError",
     "evalue": "'DatasetReader' object has no attribute 'plot'",
     "output_type": "error",
     "traceback": [
      "\u001b[1;31m---------------------------------------------------------------------------\u001b[0m",
      "\u001b[1;31mAttributeError\u001b[0m                            Traceback (most recent call last)",
      "Cell \u001b[1;32mIn[13], line 1\u001b[0m\n\u001b[1;32m----> 1\u001b[0m ax \u001b[39m=\u001b[39m src\u001b[39m.\u001b[39;49mplot(figsize\u001b[39m=\u001b[39m(\u001b[39m10\u001b[39m, \u001b[39m10\u001b[39m), alpha\u001b[39m=\u001b[39m\u001b[39m0.5\u001b[39m, edgecolor\u001b[39m=\u001b[39m\u001b[39m'\u001b[39m\u001b[39mk\u001b[39m\u001b[39m'\u001b[39m)\n\u001b[0;32m      2\u001b[0m cx\u001b[39m.\u001b[39madd_basemap(ax)\n",
      "\u001b[1;31mAttributeError\u001b[0m: 'DatasetReader' object has no attribute 'plot'"
     ]
    }
   ],
   "source": [
    "ax = src.plot(figsize=(10, 10), alpha=0.5, edgecolor='k')\n",
    "cx.add_basemap(ax)"
   ]
  },
  {
   "cell_type": "code",
   "execution_count": null,
   "metadata": {},
   "outputs": [],
   "source": [
    "from rasterio.plot import show\n",
    "import matplotlib.pyplot as plt"
   ]
  },
  {
   "cell_type": "code",
   "execution_count": null,
   "metadata": {},
   "outputs": [],
   "source": [
    "# Abrir el archivo raster\n",
    "with rasterio.open('data/test_drone51.TIF') as src:\n",
    "    raster = src.read()\n",
    "    transform = src.transform\n",
    "    crs = src.crs\n",
    "\n",
    "#Crear una figura\n",
    "fig, ax = plt.subplots(figsize=(10, 10))\n",
    "ax.set_aspect('equal')\n",
    "\n",
    "# Agregar el raster al mapa base\n",
    "show(raster, transform=transform, ax=ax)\n",
    "\n",
    "# Agregar las coordenadas\n",
    "plt.xlabel('Longitude')\n",
    "plt.ylabel('Latitude')\n",
    "plt.title(\"Mapa Base con el raster\")\n",
    "\n",
    "# Mostrar la figura\n",
    "plt.show()\n",
    "cx.add_basemap(ax)"
   ]
  },
  {
   "cell_type": "code",
   "execution_count": null,
   "metadata": {},
   "outputs": [],
   "source": [
    "import folium\n",
    "import rasterio\n",
    "from rasterio.plot import show\n",
    "from folium import plugins\n"
   ]
  },
  {
   "cell_type": "code",
   "execution_count": null,
   "metadata": {},
   "outputs": [],
   "source": [
    "import folium\n"
   ]
  },
  {
   "cell_type": "code",
   "execution_count": null,
   "metadata": {},
   "outputs": [],
   "source": [
    "# Cargar el raster\n",
    "with rasterio.open('data/test_drone51.TIF') as src:\n",
    "    raster = src.read()\n",
    "    transform = src.transform\n",
    "    bounds = src.bounds\n",
    "\n",
    "# Crear el mapa base\n",
    "m = folium.Map(location=[(bounds.top + bounds.bottom)/2,\n",
    "               (bounds.left + bounds.right)/2], zoom_start=18)\n",
    "\n",
    "# Añadir el raster al mapa\n",
    "folium.raster_layers.ImageOverlay(\n",
    "    image=\"data/test_drone51.TIF\",\n",
    "    bounds=[[bounds.top, bounds.left], [\n",
    "        bounds.bottom, bounds.right]],\n",
    "    opacity=0.5,\n",
    "    # colormap=lambda x: (1, 0, 0, x),\n",
    ").add_to(m)\n",
    "\n",
    "# Mostrar el mapa\n",
    "m\n"
   ]
  }
 ],
 "metadata": {
  "kernelspec": {
   "display_name": "kriging-y0ZA2chP",
   "language": "python",
   "name": "python3"
  },
  "language_info": {
   "codemirror_mode": {
    "name": "ipython",
    "version": 3
   },
   "file_extension": ".py",
   "mimetype": "text/x-python",
   "name": "python",
   "nbconvert_exporter": "python",
   "pygments_lexer": "ipython3",
   "version": "3.9.13"
  },
  "orig_nbformat": 4,
  "vscode": {
   "interpreter": {
    "hash": "ab52194bee9b608293783ba150ba8de99bf298d3358bb1156b5e518e24771868"
   }
  }
 },
 "nbformat": 4,
 "nbformat_minor": 2
}
