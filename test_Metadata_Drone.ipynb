{
 "cells": [
  {
   "attachments": {},
   "cell_type": "markdown",
   "metadata": {},
   "source": [
    "Código para la creación de imagen tiff con metadatos de drone"
   ]
  },
  {
   "cell_type": "code",
   "execution_count": 57,
   "metadata": {},
   "outputs": [],
   "source": [
    "from PIL import Image\n",
    "from PIL.TiffTags import TAGS\n",
    "import functools\n",
    "import operator\n",
    "import sys\n",
    "import re\n",
    "import rasterio"
   ]
  },
  {
   "cell_type": "code",
   "execution_count": 58,
   "metadata": {},
   "outputs": [],
   "source": [
    "# obtenemos la imagen .tif\n",
    "imagen = \"./data/fotos/DJI_0051.TIF\"\n",
    "img = Image.open(imagen)\n",
    "# obtenemos los Tags de la metadata y se almacenan en un diccionario\n",
    "meta_dict = {TAGS[key]: img.tag[key] for key in img.tag_v2}\n",
    "# Se imprime el diccionario para obtener la composición de los datos\n",
    "# for rec in meta_dict:\n",
    "#     print(rec, \":\", meta_dict[rec])\n"
   ]
  },
  {
   "cell_type": "code",
   "execution_count": 59,
   "metadata": {},
   "outputs": [
    {
     "data": {
      "text/plain": [
       "list"
      ]
     },
     "execution_count": 59,
     "metadata": {},
     "output_type": "execute_result"
    }
   ],
   "source": [
    "# Extraemos el indicador xmp\n",
    "p = meta_dict.get(\"XMP\")\n",
    "s = p.decode(\"UTF-8\")\n",
    "# dividimos por el salto de linea y obtenemos una lista\n",
    "div = s.split(\"\\n\")\n",
    "type(div)\n"
   ]
  },
  {
   "cell_type": "code",
   "execution_count": 60,
   "metadata": {},
   "outputs": [
    {
     "data": {
      "text/plain": [
       "'drone-dji:AbsoluteAltitude=\"+56.59\"'"
      ]
     },
     "execution_count": 60,
     "metadata": {},
     "output_type": "execute_result"
    }
   ],
   "source": [
    "#eliminamos los espacios vacios \n",
    "\n",
    "for ind,recorrido in enumerate(div):\n",
    "    div[ind]=recorrido.strip() \n",
    "\n",
    "div[17]"
   ]
  },
  {
   "cell_type": "code",
   "execution_count": 61,
   "metadata": {},
   "outputs": [
    {
     "name": "stdout",
     "output_type": "stream",
     "text": [
      "AbsoluteAltitude\n",
      "+56.59\n"
     ]
    }
   ],
   "source": [
    "usar = div[17]\n",
    "\n",
    "result = re.search(\":(.*)=\", div[17])\n",
    "result.group(1)\n",
    "\n",
    "result2 = re.search(\"\\\"(.*)\\\"\", div[17])\n",
    "result2.group(1)\n",
    "\n",
    "print(result.group(1))\n",
    "print(result2.group(1))\n"
   ]
  },
  {
   "attachments": {},
   "cell_type": "markdown",
   "metadata": {},
   "source": [
    "Creo un diccionario donde almaceno las variables de la metadata con su valor"
   ]
  },
  {
   "cell_type": "code",
   "execution_count": 62,
   "metadata": {},
   "outputs": [
    {
     "name": "stdout",
     "output_type": "stream",
     "text": [
      "{'xmpmeta xmlns:x': 'adobe:ns:meta/', 'RDF xmlns:rdf': 'http://www.w3.org/1999/02/22-rdf-syntax-ns#', 'Description rdf:about': 'DJI Meta Data', 'tiff': 'http://ns.adobe.com/tiff/1.0/', 'exif': 'http://ns.adobe.com/exif/1.0/', 'xmp': 'http://ns.adobe.com/xap/1.0/', 'xmpMM': 'http://ns.adobe.com/xap/1.0/mm/', 'dc': 'http://purl.org/dc/elements/1.1/', 'crs': 'http://ns.adobe.com/camera-raw-settings/1.0/', 'drone-dji': 'http://www.dji.com/drone-dji/1.0/', 'Camera': 'http://pix4d.com/camera/1.0', 'ModifyDate': '2022-11-29', 'CreateDate': '2022-11-29', 'Make': 'DJI', 'Model': 'FC6360', 'format': 'image/TIF', 'AbsoluteAltitude': '+56.59', 'RelativeAltitude': '+19.80', 'GpsLatitude': '10.55178659', 'GpsLongitude': '-74.22021469', 'GimbalRollDegree': '+0.00', 'GimbalYawDegree': '-84.90', 'GimbalPitchDegree': '-89.90', 'FlightRollDegree': '+5.60', 'FlightYawDegree': '-84.80', 'FlightPitchDegree': '-2.70', 'FlightXSpeed': '-0.30', 'FlightYSpeed': '+0.00', 'FlightZSpeed': '+0.00', 'CamReverse': '0', 'GimbalReverse': '0', 'SelfData': 'Undefined', 'CalibratedFocalLength': '1913.333374', 'CalibratedOpticalCenterX': '800.000000', 'CalibratedOpticalCenterY': '650.000000', 'RtkFlag': '16', 'RtkSrcType': '2', 'RtkStdLon': '1.34912', 'RtkStdLat': '1.04843', 'RtkStdHgt': '2.94008', 'RelativeOpticalCenterX': '-9.81250', 'RelativeOpticalCenterY': '-0.87500', 'DewarpFlag': '0', 'DewarpData': '2019-02-04;1946.6899414,1938.1800537,8.2410278,0.6400146,-0.4091410,0.3551550,0.0014017,0.0014017,-0.3881310', 'DewarpHMatrix': '1.0080700,-0.0037179,6.8375001,0.0051800,0.9988350,-13.7370996,0.0000153,-0.0000099,1.0000000', 'VignettingFlag': '0', 'VignettingData': '0.000218235, 1.20722e-6, -2.8676e-9, 5.1742e-12, -4.16853e-15, 1.36962e-18', 'LS_type': '1', 'Package_idx': '1', 'Cfg_cnt': '1', 'RawData': '4141.000 5055.000 4932.000 5329.000 5570.000 4418.000 4800.000 5480.000 5232.000 5621.000 2041.000 661.000 1122.000 2309.000 3513.000 3091.000 4081.000 3850.000 ', 'BandName': 'Blue', 'BandFreq': '450(+/-16)nm', 'Irradiance': '5844.242', 'SensorGain': '1.875', 'ExposureTime': '3006', 'SensorGainAdjustment': '2.176354', 'SensorIndex': '1', 'CaptureUUID': '56b21e44c97011ec8351ce3ccab36997', 'DroneID': 'ce3ccab369970d2995b38aac35c75ff8', 'Version': '7.0', 'HasSettings': 'False', 'HasCrop': 'False', 'AlreadyApplied': 'False'}\n"
     ]
    }
   ],
   "source": [
    "metadiccionario = {}\n",
    "for ind,recorrido in enumerate(div):\n",
    "    try:\n",
    "        metadiccionario[re.search(\":(.*)=\", div[ind]).group(1)] = re.search(\"\\\"(.*)\\\"\", div[ind]).group(1)\n",
    "    except:\n",
    "        pass\n",
    "\n",
    "print(metadiccionario)"
   ]
  },
  {
   "attachments": {},
   "cell_type": "markdown",
   "metadata": {},
   "source": [
    "Se calcula la resolución en metros por pixel.\n",
    "Es decir, a cuantos metros equivale un pixel"
   ]
  },
  {
   "cell_type": "code",
   "execution_count": 63,
   "metadata": {},
   "outputs": [
    {
     "data": {
      "text/plain": [
       "0.029576654423632085"
      ]
     },
     "execution_count": 63,
     "metadata": {},
     "output_type": "execute_result"
    }
   ],
   "source": [
    "resolucion = float(metadiccionario[\"AbsoluteAltitude\"])/float(metadiccionario[\"CalibratedFocalLength\"])\n",
    "resolucion"
   ]
  },
  {
   "cell_type": "code",
   "execution_count": 64,
   "metadata": {},
   "outputs": [],
   "source": [
    "# Abrir la imagen\n",
    "with rasterio.open(imagen) as src:\n",
    "    # Obtener la información de la imagen\n",
    "    width = src.width\n",
    "    height = src.height\n",
    "    transform = src.transform\n",
    "    crs = src.crs\n"
   ]
  },
  {
   "attachments": {},
   "cell_type": "markdown",
   "metadata": {},
   "source": [
    "Cálculo de las coordenadas de las esquinas la imagen"
   ]
  },
  {
   "attachments": {},
   "cell_type": "markdown",
   "metadata": {},
   "source": [
    "Se divide entre 111111 para convertir los metros en grados. Esto se debe a que 1 grado de longitud o latitud en el ecuador es aproximadamente 111.111 km de ancho. Dado que la longitud y la latitud son medidas en grados, se debe convertir el tamaño de los píxeles en metros a grados para poder calcular las coordenadas extremas en grados.\n",
    "Donde el ancho de la imagen en metros se divide entre la distancia en metros por grado para obtener la diferencia en grados. El factor 111111 es una aproximación, ya que la distancia en metros por grado varía según la latitud. Sin embargo, esta aproximación es suficiente para una precisión razonable.\n",
    "\n",
    "Es importante tener en cuenta que esta conversión solo es válida para latitudes cercanas al ecuador, ya que la distancia en metros por grado varía según la latitud."
   ]
  },
  {
   "cell_type": "code",
   "execution_count": 65,
   "metadata": {},
   "outputs": [
    {
     "name": "stdout",
     "output_type": "stream",
     "text": [
      "-74.2204276421248 -74.22000173787521 10.551613566398599 10.551959613601403\n"
     ]
    }
   ],
   "source": [
    "# Calcular las coordenadas de los extremos en metros\n",
    "min_lon = float(metadiccionario[\"GpsLongitude\"]) - (\n",
    "    float(metadiccionario[\"CalibratedOpticalCenterX\"]) * resolucion) / 111111\n",
    "max_lon = float(metadiccionario[\"GpsLongitude\"]) + (\n",
    "    float(metadiccionario[\"CalibratedOpticalCenterX\"]) * resolucion) / 111111\n",
    "min_lat = float(metadiccionario[\"GpsLatitude\"]) - (\n",
    "    float(metadiccionario[\"CalibratedOpticalCenterY\"]) * resolucion) / 111111\n",
    "max_lat = float(metadiccionario[\"GpsLatitude\"]) + (\n",
    "    float(metadiccionario[\"CalibratedOpticalCenterY\"]) * resolucion) / 111111\n",
    "print(min_lon, max_lon, min_lat, max_lat)\n"
   ]
  },
  {
   "cell_type": "code",
   "execution_count": 66,
   "metadata": {},
   "outputs": [
    {
     "data": {
      "text/plain": [
       "Affine(2.6619015599749216e-07, 0.0, -74.2204276421248,\n",
       "       0.0, -2.661901560029579e-07, 10.551959613601403)"
      ]
     },
     "execution_count": 66,
     "metadata": {},
     "output_type": "execute_result"
    }
   ],
   "source": [
    "transform = rasterio.transform.from_bounds(\n",
    "    min_lon, min_lat, max_lon, max_lat, img.width, img.height)\n",
    "transform\n"
   ]
  },
  {
   "attachments": {},
   "cell_type": "markdown",
   "metadata": {},
   "source": [
    "Leo la imagen con rasterio y luego la guardo con las coordenadas correspondientes y como archivo tiff"
   ]
  },
  {
   "cell_type": "code",
   "execution_count": 67,
   "metadata": {},
   "outputs": [],
   "source": [
    "# Abrir el archivo original\n",
    "with rasterio.open(imagen) as src:\n",
    "    # Leer los datos de la imagen\n",
    "    image = src.read()\n",
    "\n",
    "    # Crear una copia del archivo\n",
    "    with rasterio.open(\n",
    "        'data/test_drone05.tiff',\n",
    "        'w',\n",
    "        driver='GTiff',\n",
    "        height=src.height,\n",
    "        width=src.width,\n",
    "        count=1,\n",
    "        dtype=\"float64\",\n",
    "        crs={\"init\": \"epsg:4326\"},\n",
    "        transform=transform,\n",
    "    ) as dst:\n",
    "        dst.write(image)\n"
   ]
  }
 ],
 "metadata": {
  "kernelspec": {
   "display_name": "kriging-y0ZA2chP",
   "language": "python",
   "name": "python3"
  },
  "language_info": {
   "codemirror_mode": {
    "name": "ipython",
    "version": 3
   },
   "file_extension": ".py",
   "mimetype": "text/x-python",
   "name": "python",
   "nbconvert_exporter": "python",
   "pygments_lexer": "ipython3",
   "version": "3.9.13"
  },
  "orig_nbformat": 4,
  "vscode": {
   "interpreter": {
    "hash": "ab52194bee9b608293783ba150ba8de99bf298d3358bb1156b5e518e24771868"
   }
  }
 },
 "nbformat": 4,
 "nbformat_minor": 2
}
