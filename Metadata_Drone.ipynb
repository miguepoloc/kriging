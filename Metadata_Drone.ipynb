{
 "cells": [
  {
   "cell_type": "code",
   "execution_count": 10,
   "metadata": {},
   "outputs": [],
   "source": [
    "from PIL import Image\n",
    "from PIL.TiffTags import TAGS\n",
    "import functools\n",
    "import operator\n",
    "import sys\n",
    "import re"
   ]
  },
  {
   "cell_type": "code",
   "execution_count": 6,
   "metadata": {},
   "outputs": [],
   "source": [
    "# obtenemos la imagen .tif\n",
    "img = Image.open(\"./data/fotos/DJI_0011.TIF\")\n",
    "# obtenemos los Tags de la metadata y se almacenan en un diccionario\n",
    "meta_dict = {TAGS[key]: img.tag[key] for key in img.tag_v2}\n",
    "# Se imprime el diccionario para obtener la composición de los datos\n",
    "# for rec in meta_dict:\n",
    "#     print(rec, \":\", meta_dict[rec])\n"
   ]
  },
  {
   "cell_type": "code",
   "execution_count": 8,
   "metadata": {},
   "outputs": [
    {
     "data": {
      "text/plain": [
       "list"
      ]
     },
     "execution_count": 8,
     "metadata": {},
     "output_type": "execute_result"
    }
   ],
   "source": [
    "# Extraemos el indicador xmp\n",
    "p = meta_dict.get(\"XMP\")\n",
    "s = p.decode(\"UTF-8\")\n",
    "# dividimos por el salto de linea y obtenemos una lista\n",
    "div = s.split(\"\\n\")\n",
    "type(div)\n"
   ]
  },
  {
   "cell_type": "code",
   "execution_count": 9,
   "metadata": {},
   "outputs": [
    {
     "data": {
      "text/plain": [
       "'drone-dji:AbsoluteAltitude=\"+49.14\"'"
      ]
     },
     "execution_count": 9,
     "metadata": {},
     "output_type": "execute_result"
    }
   ],
   "source": [
    "#eliminamos los espacios vacios \n",
    "\n",
    "for ind,recorrido in enumerate(div):\n",
    "    div[ind]=recorrido.strip() \n",
    "\n",
    "div[17]"
   ]
  },
  {
   "cell_type": "code",
   "execution_count": 11,
   "metadata": {},
   "outputs": [
    {
     "name": "stdout",
     "output_type": "stream",
     "text": [
      "AbsoluteAltitude\n",
      "+49.14\n"
     ]
    }
   ],
   "source": [
    "usar=div[17]\n",
    "\n",
    "result=re.search(\":(.*)=\",div[17])\n",
    "result.group(1)\n",
    "\n",
    "result2=re.search(\"\\\"(.*)\\\"\",div[17])\n",
    "result2.group(1)\n",
    "\n",
    "print(result.group(1))\n",
    "print(result2.group(1))"
   ]
  },
  {
   "cell_type": "code",
   "execution_count": 13,
   "metadata": {},
   "outputs": [
    {
     "data": {
      "text/plain": [
       "<re.Match object; span=(9, 27), match=':AbsoluteAltitude='>"
      ]
     },
     "execution_count": 13,
     "metadata": {},
     "output_type": "execute_result"
    }
   ],
   "source": [
    "result"
   ]
  }
 ],
 "metadata": {
  "kernelspec": {
   "display_name": "venv",
   "language": "python",
   "name": "python3"
  },
  "language_info": {
   "codemirror_mode": {
    "name": "ipython",
    "version": 3
   },
   "file_extension": ".py",
   "mimetype": "text/x-python",
   "name": "python",
   "nbconvert_exporter": "python",
   "pygments_lexer": "ipython3",
   "version": "3.9.12"
  },
  "orig_nbformat": 4,
  "vscode": {
   "interpreter": {
    "hash": "8c331df6f17fe20001c0ab0f3b9a95f235b4ac52409adcdc77ff1039244255d0"
   }
  }
 },
 "nbformat": 4,
 "nbformat_minor": 2
}
