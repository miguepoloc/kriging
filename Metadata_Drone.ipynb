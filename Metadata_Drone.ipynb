{
 "cells": [
  {
   "cell_type": "code",
   "execution_count": 1,
   "metadata": {},
   "outputs": [],
   "source": [
    "from PIL import Image\n",
    "from PIL.TiffTags import TAGS\n",
    "import functools\n",
    "import operator"
   ]
  },
  {
   "cell_type": "code",
   "execution_count": 4,
   "metadata": {},
   "outputs": [
    {
     "name": "stdout",
     "output_type": "stream",
     "text": [
      "<class 'dict'>\n",
      "ImageWidth : (1600,)\n",
      "ImageLength : (1300,)\n",
      "BitsPerSample : (16,)\n",
      "Compression : (1,)\n",
      "PhotometricInterpretation : (1,)\n",
      "ImageDescription : ('DCIM\\\\102MEDIA\\\\DJI_0011.TIF',)\n",
      "Make : ('DJI',)\n",
      "Model : ('FC6360',)\n",
      "StripOffsets : (8,)\n",
      "Orientation : (1,)\n",
      "SamplesPerPixel : (1,)\n",
      "RowsPerStrip : (1300,)\n",
      "StripByteCounts : (4160000,)\n",
      "BlackLevelRepeatDim : (1, 1)\n",
      "BlackLevel : (4096,)\n",
      "GPSInfoIFD : (4160512,)\n",
      "ExifIFD : (4160266,)\n",
      "Software : ('v01.17.2023',)\n",
      "DateTime : ('2022:09:20 11:59:49',)\n",
      "XMP : b'<?xpacket begin=\"\\xef\\xbb\\xbf\" id=\"W5M0MpCehiHzreSzNTczkc9d\"?>\\n<x:xmpmeta xmlns:x=\"adobe:ns:meta/\">\\n <rdf:RDF xmlns:rdf=\"http://www.w3.org/1999/02/22-rdf-syntax-ns#\">\\n  <rdf:Description rdf:about=\"DJI Meta Data\"\\n    xmlns:tiff=\"http://ns.adobe.com/tiff/1.0/\"\\n    xmlns:exif=\"http://ns.adobe.com/exif/1.0/\"\\n    xmlns:xmp=\"http://ns.adobe.com/xap/1.0/\"\\n    xmlns:xmpMM=\"http://ns.adobe.com/xap/1.0/mm/\"\\n    xmlns:dc=\"http://purl.org/dc/elements/1.1/\"\\n    xmlns:crs=\"http://ns.adobe.com/camera-raw-settings/1.0/\"\\n    xmlns:drone-dji=\"http://www.dji.com/drone-dji/1.0/\"\\n    xmlns:Camera=\"http://pix4d.com/camera/1.0\"\\n   xmp:ModifyDate=\"2022-09-20\"\\n   xmp:CreateDate=\"2022-09-20\"\\n   tiff:Make=\"DJI\"\\n   tiff:Model=\"FC6360\"\\n   dc:format=\"image/TIF\"\\n   drone-dji:AbsoluteAltitude=\"+49.14\"\\n   drone-dji:RelativeAltitude=\"+14.60\"\\n   drone-dji:GpsLatitude=\"10.58191557\"\\n   drone-dji:GpsLongitude=\"-74.22968632\"\\n   drone-dji:GimbalRollDegree=\"+0.00\"\\n   drone-dji:GimbalYawDegree=\"+101.10\"\\n   drone-dji:GimbalPitchDegree=\"-89.90\"\\n   drone-dji:FlightRollDegree=\"+4.00\"\\n   drone-dji:FlightYawDegree=\"+101.10\"\\n   drone-dji:FlightPitchDegree=\"+2.00\"\\n   drone-dji:FlightXSpeed=\"+0.40\"\\n   drone-dji:FlightYSpeed=\"+0.00\"\\n   drone-dji:FlightZSpeed=\"+0.00\"\\n   drone-dji:CamReverse=\"0\"\\n   drone-dji:GimbalReverse=\"0\"\\n   drone-dji:SelfData=\"Undefined\"\\n   drone-dji:CalibratedFocalLength=\"1913.333374\"\\n   drone-dji:CalibratedOpticalCenterX=\"800.000000\"\\n   drone-dji:CalibratedOpticalCenterY=\"650.000000\"\\n   drone-dji:RtkFlag=\"16\"\\n   drone-dji:RtkStdLon=\"1.24923\"\\n   drone-dji:RtkStdLat=\"1.11351\"\\n   drone-dji:RtkStdHgt=\"2.78672\"\\n   drone-dji:RelativeOpticalCenterX=\"-9.81250\"\\n   drone-dji:RelativeOpticalCenterY=\"-0.87500\"\\n   drone-dji:DewarpFlag=\"0\"\\n   drone-dji:DewarpData=\"2019-02-04;1946.6899414,1938.1800537,8.2410278,0.6400146,-0.4091410,0.3551550,0.0014017,0.0014017,-0.3881310\"\\n   drone-dji:DewarpHMatrix=\"1.0080700,-0.0037179,6.8375001,0.0051800,0.9988350,-13.7370996,0.0000153,-0.0000099,1.0000000\"\\n   drone-dji:VignettingFlag=\"0\"\\n   drone-dji:VignettingData=\"0.000218235, 1.20722e-6, -2.8676e-9, 5.1742e-12, -4.16853e-15, 1.36962e-18\"\\n   drone-dji:LS_type=\"1\"\\n   drone-dji:Package_idx=\"158\"\\n   drone-dji:Cfg_cnt=\"1\"\\n   drone-dji:RawData=\"5750.000 6876.000 7090.000 7555.000 7759.000 6380.000 6619.000 7739.000 7093.000 8078.000 2923.000 1031.000 1638.000 3141.000 4703.000 4222.000 5424.000 5315.000 \"\\n   drone-dji:BandName=\"Blue\"\\n   drone-dji:BandFreq=\"450(+/-16)nm\"\\n   drone-dji:Irradiance=\"8167.494\"\\n   drone-dji:SensorGain=\"1.000\"\\n   drone-dji:ExposureTime=\"3028\"\\n   drone-dji:SensorGainAdjustment=\"2.176354\"\\n   drone-dji:SensorIndex=\"1\"\\n   drone-dji:CaptureUUID=\"11941073926e11ec9c6dce3ccab36997\"\\n   drone-dji:DroneID=\"ce3ccab369970d2995b38aac35c75ff8\"\\n   crs:Version=\"7.0\"\\n   crs:HasSettings=\"False\"\\n   crs:HasCrop=\"False\"\\n   crs:AlreadyApplied=\"False\">\\n   <Camera:RigName>FC6360</Camera:RigName>\\n   <Camera:BandName>Blue</Camera:BandName>\\n   <Camera:CentralWavelength>450</Camera:CentralWavelength>\\n   <Camera:WavelengthFWHM>16</Camera:WavelengthFWHM>\\n   <Camera:ModelType>perspective</Camera:ModelType>\\n   <Camera:PrincipalPoint>2.424723,1.951920</Camera:PrincipalPoint>\\n   <Camera:PerspectiveFocalLength>5.74</Camera:PerspectiveFocalLength>\\n   <Camera:PerspectiveFocalLengthUnits>mm</Camera:PerspectiveFocalLengthUnits>\\n   <Camera:PerspectiveDistortion>\\n    <rdf:Seq>\\n     <rdf:li>-0.409141</rdf:li>\\n     <rdf:li>0.355155</rdf:li>\\n     <rdf:li>-0.388131</rdf:li>\\n     <rdf:li>0.001402</rdf:li>\\n     <rdf:li>0.001402</rdf:li>\\n    </rdf:Seq>\\n   </Camera:PerspectiveDistortion>\\n   <Camera:RigCameraIndex>1</Camera:RigCameraIndex>\\n   <Camera:BlackCurrent>4096</Camera:BlackCurrent>\\n   <Camera:SunSensor>8167.494</Camera:SunSensor>\\n   <Camera:SunSensorExposureTime>0.364</Camera:SunSensorExposureTime>\\n   <Camera:VignettingPolynomial>\\n    <rdf:Seq>\\n     <rdf:li>2.182350e-04</rdf:li>\\n     <rdf:li>1.207220e-06</rdf:li>\\n     <rdf:li>-2.867600e-09</rdf:li>\\n     <rdf:li>5.174200e-12</rdf:li>\\n     <rdf:li>-4.168530e-15</rdf:li>\\n     <rdf:li>1.369620e-18</rdf:li>\\n    </rdf:Seq>\\n   </Camera:VignettingPolynomial>\\n   <Camera:VignettingCenter>\\n    <rdf:Seq>\\n     <rdf:li>800.000000</rdf:li>\\n     <rdf:li>650.000000</rdf:li>\\n    </rdf:Seq>\\n   </Camera:VignettingCenter>\\n   <Camera:IsNormalized>0</Camera:IsNormalized>\\n   <Camera:IrradianceExposureTime>0.364000</Camera:IrradianceExposureTime>\\n   <Camera:IrradianceGain>16</Camera:IrradianceGain>\\n   <Camera:Irradiance>8167.493652</Camera:Irradiance>\\n   <Camera:IrradianceYaw>0.000000</Camera:IrradianceYaw>\\n   <Camera:IrradiancePitch>0.000000</Camera:IrradiancePitch>\\n   <Camera:IrradianceRoll>0.000000</Camera:IrradianceRoll>\\n   <Camera:RadiometricCalibration>\\n    <rdf:Seq>\\n     <rdf:li>2.176354</rdf:li>\\n     <rdf:li>0.000000</rdf:li>\\n     <rdf:li>0.000000</rdf:li>\\n    </rdf:Seq>\\n   </Camera:RadiometricCalibration>\\n  </rdf:Description>\\n </rdf:RDF>\\n</x:xmpmeta>\\n                                                                                                    \\n                                                                                                    \\n                                                                                                    \\n                                                                                                    \\n                                                                                                    \\n                                                                                                    \\n                                                                                                    \\n                                                                                                    \\n                                                                                                    \\n                                                                                                    \\n                                                                                                    \\n                                                                                                    \\n                                                                                                    \\n                                                                                                    \\n                                                                                                    \\n                                                                                                    \\n                                                                                                    \\n                                                                                                    \\n                                                                                                    \\n                                                                                                    \\n                                                                                                    \\n                                                                                                    \\n                                                                                                    \\n                                                                                                    \\n                                                                                                    \\n                                                                                                    \\n                                                                                                    \\n                                                                                                    \\n                                                                                                    \\n                                                                                                    \\n                                                                                                    \\n                                                                                                    \\n                                                \\n<?xpacket end=\"w\"?>\\n'\n",
      "NewSubfileType : (0,)\n"
     ]
    }
   ],
   "source": [
    "#obtenemos la imagen .tif\n",
    "img=Image.open(\"./data/fotos/DJI_0011.TIF\")\n",
    "#obtenemos los Tags de la metadata y se almacenan en un diccionario\n",
    "meta_dict = {TAGS[key] : img.tag[key] for key in img.tag_v2}\n",
    "print(type(meta_dict))\n",
    "\"\"\"  Se imprime el diccionario para obtener la composiciónd e los datos \n",
    "for rec in meta_dict:\n",
    "    print (rec,\":\",meta_dict[rec])\n",
    "\"\"\""
   ]
  },
  {
   "cell_type": "code",
   "execution_count": 60,
   "metadata": {},
   "outputs": [
    {
     "data": {
      "text/plain": [
       "list"
      ]
     },
     "execution_count": 60,
     "metadata": {},
     "output_type": "execute_result"
    }
   ],
   "source": [
    "import sys\n",
    "# Extraemos el indicador xmp\n",
    "p=meta_dict.get(\"XMP\")\n",
    "s = p.decode(\"UTF-8\")\n",
    "#dividimos por el salto de linea y obtenemos una lista\n",
    "div=s.split(\"\\n\")\n",
    "type(div)"
   ]
  },
  {
   "cell_type": "code",
   "execution_count": 67,
   "metadata": {},
   "outputs": [
    {
     "data": {
      "text/plain": [
       "'drone-dji:AbsoluteAltitude=\"+49.14\"'"
      ]
     },
     "execution_count": 67,
     "metadata": {},
     "output_type": "execute_result"
    }
   ],
   "source": [
    "#eliminamos los espacios vacios \n",
    "\n",
    "for ind,recorrido in enumerate(div):\n",
    "    div[ind]=recorrido.strip() \n",
    "\n",
    "div[17]"
   ]
  },
  {
   "cell_type": "code",
   "execution_count": 73,
   "metadata": {},
   "outputs": [
    {
     "name": "stdout",
     "output_type": "stream",
     "text": [
      "AbsoluteAltitude\n",
      "+49.14\n"
     ]
    }
   ],
   "source": [
    "import re\n",
    "usar=div[17]\n",
    "\n",
    "result=re.search(\":(.*)=\",div[17])\n",
    "result.group(1)\n",
    "\n",
    "result2=re.search(\"\\\"(.*)\\\"\",div[17])\n",
    "result2.group(1)\n",
    "\n",
    "print(result.group(1))\n",
    "print(result2.group(1))"
   ]
  },
  {
   "cell_type": "code",
   "execution_count": null,
   "metadata": {},
   "outputs": [],
   "source": []
  }
 ],
 "metadata": {
  "kernelspec": {
   "display_name": "venv",
   "language": "python",
   "name": "python3"
  },
  "language_info": {
   "codemirror_mode": {
    "name": "ipython",
    "version": 3
   },
   "file_extension": ".py",
   "mimetype": "text/x-python",
   "name": "python",
   "nbconvert_exporter": "python",
   "pygments_lexer": "ipython3",
   "version": "3.10.9 (tags/v3.10.9:1dd9be6, Dec  6 2022, 20:01:21) [MSC v.1934 64 bit (AMD64)]"
  },
  "orig_nbformat": 4,
  "vscode": {
   "interpreter": {
    "hash": "8c331df6f17fe20001c0ab0f3b9a95f235b4ac52409adcdc77ff1039244255d0"
   }
  }
 },
 "nbformat": 4,
 "nbformat_minor": 2
}
